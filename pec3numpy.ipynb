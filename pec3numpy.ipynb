{
  "nbformat": 4,
  "nbformat_minor": 0,
  "metadata": {
    "colab": {
      "name": "pec3numpy.ipynb",
      "provenance": [],
      "authorship_tag": "ABX9TyPzhlS8dqIT7tgKrXg76nDJ",
      "include_colab_link": true
    },
    "kernelspec": {
      "name": "python3",
      "display_name": "Python 3"
    },
    "language_info": {
      "name": "python"
    }
  },
  "cells": [
    {
      "cell_type": "markdown",
      "metadata": {
        "id": "view-in-github",
        "colab_type": "text"
      },
      "source": [
        "<a href=\"https://colab.research.google.com/github/sidneybraga/Aprendendo-Python/blob/master/pec3numpy.ipynb\" target=\"_parent\"><img src=\"https://colab.research.google.com/assets/colab-badge.svg\" alt=\"Open In Colab\"/></a>"
      ]
    },
    {
      "cell_type": "code",
      "metadata": {
        "id": "ItBrYelhrSpJ"
      },
      "source": [
        "import sympy as sp\n",
        "import numpy as np"
      ],
      "execution_count": null,
      "outputs": []
    },
    {
      "cell_type": "code",
      "metadata": {
        "colab": {
          "base_uri": "https://localhost:8080/",
          "height": 38
        },
        "id": "AQZv7AC0rbI7",
        "outputId": "6a8dcc61-dd3c-42df-fd18-0262e00c6158"
      },
      "source": [
        "x = sp.symbols('x')\n",
        "x**x + x*x"
      ],
      "execution_count": null,
      "outputs": [
        {
          "output_type": "execute_result",
          "data": {
            "text/latex": "$\\displaystyle x^{2} + x^{x}$",
            "text/plain": [
              "x**2 + x**x"
            ]
          },
          "metadata": {
            "tags": []
          },
          "execution_count": 3
        }
      ]
    },
    {
      "cell_type": "code",
      "metadata": {
        "colab": {
          "base_uri": "https://localhost:8080/",
          "height": 38
        },
        "id": "deJXRw2LrtGQ",
        "outputId": "cd295c29-85e1-4f47-ba9b-c1698087ded7"
      },
      "source": [
        "listasimbolos=['x','y','z']\n",
        "x,y,z = sp.symbols(listasimbolos)\n",
        "x**2 - y**2"
      ],
      "execution_count": null,
      "outputs": [
        {
          "output_type": "execute_result",
          "data": {
            "text/latex": "$\\displaystyle x^{2} - y^{2}$",
            "text/plain": [
              "x**2 - y**2"
            ]
          },
          "metadata": {
            "tags": []
          },
          "execution_count": 19
        }
      ]
    },
    {
      "cell_type": "code",
      "metadata": {
        "id": "dwYjA-AhsH_a"
      },
      "source": [
        "f_xy= x**2-y**2"
      ],
      "execution_count": null,
      "outputs": []
    },
    {
      "cell_type": "code",
      "metadata": {
        "id": "eaWVNyPTshIP"
      },
      "source": [
        "resultado = f_xy.subs(x,2).subs(y,1)"
      ],
      "execution_count": null,
      "outputs": []
    },
    {
      "cell_type": "code",
      "metadata": {
        "colab": {
          "base_uri": "https://localhost:8080/",
          "height": 37
        },
        "id": "KH1IivGhsqhv",
        "outputId": "fd115060-3763-4304-c535-5389ac372fcf"
      },
      "source": [
        "resultado"
      ],
      "execution_count": null,
      "outputs": [
        {
          "output_type": "execute_result",
          "data": {
            "text/latex": "$\\displaystyle 3$",
            "text/plain": [
              "3"
            ]
          },
          "metadata": {
            "tags": []
          },
          "execution_count": 8
        }
      ]
    },
    {
      "cell_type": "code",
      "metadata": {
        "colab": {
          "base_uri": "https://localhost:8080/",
          "height": 38
        },
        "id": "Caf1ZxAwsry3",
        "outputId": "e4e0a5bc-6069-4ed8-dc1a-7ecb356f81bb"
      },
      "source": [
        "sp.simplify(f_xy)"
      ],
      "execution_count": null,
      "outputs": [
        {
          "output_type": "execute_result",
          "data": {
            "text/latex": "$\\displaystyle x^{2} - y^{2}$",
            "text/plain": [
              "x**2 - y**2"
            ]
          },
          "metadata": {
            "tags": []
          },
          "execution_count": 9
        }
      ]
    },
    {
      "cell_type": "code",
      "metadata": {
        "id": "9gRA76_ntER4"
      },
      "source": [
        "a = sp.Matrix([[1,2,3],[4,8,10],[10,18,30]])"
      ],
      "execution_count": null,
      "outputs": []
    },
    {
      "cell_type": "code",
      "metadata": {
        "colab": {
          "base_uri": "https://localhost:8080/",
          "height": 78
        },
        "id": "ot3gq5Ngt3pQ",
        "outputId": "bfb835a4-3070-4b19-e72f-f62cfab43331"
      },
      "source": [
        "a"
      ],
      "execution_count": null,
      "outputs": [
        {
          "output_type": "execute_result",
          "data": {
            "text/latex": "$\\displaystyle \\left[\\begin{matrix}1 & 2 & 3\\\\4 & 8 & 10\\\\10 & 18 & 30\\end{matrix}\\right]$",
            "text/plain": [
              "Matrix([\n",
              "[ 1,  2,  3],\n",
              "[ 4,  8, 10],\n",
              "[10, 18, 30]])"
            ]
          },
          "metadata": {
            "tags": []
          },
          "execution_count": 27
        }
      ]
    },
    {
      "cell_type": "code",
      "metadata": {
        "id": "vkFY4HmiuA3e"
      },
      "source": [
        "x = sp.Matrix(listasimbolos)"
      ],
      "execution_count": null,
      "outputs": []
    },
    {
      "cell_type": "code",
      "metadata": {
        "colab": {
          "base_uri": "https://localhost:8080/",
          "height": 78
        },
        "id": "pKL4LlxxuUfQ",
        "outputId": "b7e9de34-e74b-4f6c-d514-c0305911b469"
      },
      "source": [
        "x"
      ],
      "execution_count": null,
      "outputs": [
        {
          "output_type": "execute_result",
          "data": {
            "text/latex": "$\\displaystyle \\left[\\begin{matrix}x\\\\y\\\\z\\end{matrix}\\right]$",
            "text/plain": [
              "Matrix([\n",
              "[x],\n",
              "[y],\n",
              "[z]])"
            ]
          },
          "metadata": {
            "tags": []
          },
          "execution_count": 22
        }
      ]
    },
    {
      "cell_type": "code",
      "metadata": {
        "id": "I7mzP26GvHcp"
      },
      "source": [
        "b=sp.Matrix([10,20,30])"
      ],
      "execution_count": null,
      "outputs": []
    },
    {
      "cell_type": "code",
      "metadata": {
        "colab": {
          "base_uri": "https://localhost:8080/",
          "height": 37
        },
        "id": "A98v6EGSvstC",
        "outputId": "008264f7-4049-4aff-8843-4ba33ba47e24"
      },
      "source": [
        "a.det()"
      ],
      "execution_count": null,
      "outputs": [
        {
          "output_type": "execute_result",
          "data": {
            "text/latex": "$\\displaystyle -4$",
            "text/plain": [
              "-4"
            ]
          },
          "metadata": {
            "tags": []
          },
          "execution_count": 28
        }
      ]
    },
    {
      "cell_type": "code",
      "metadata": {
        "colab": {
          "base_uri": "https://localhost:8080/",
          "height": 78
        },
        "id": "6BW8hOj1wLL5",
        "outputId": "d3b1d157-d5e0-492f-a1e4-a57e7232020e"
      },
      "source": [
        "a**(-1)*b"
      ],
      "execution_count": null,
      "outputs": [
        {
          "output_type": "execute_result",
          "data": {
            "text/latex": "$\\displaystyle \\left[\\begin{matrix}-90\\\\35\\\\10\\end{matrix}\\right]$",
            "text/plain": [
              "Matrix([\n",
              "[-90],\n",
              "[ 35],\n",
              "[ 10]])"
            ]
          },
          "metadata": {
            "tags": []
          },
          "execution_count": 29
        }
      ]
    },
    {
      "cell_type": "code",
      "metadata": {
        "colab": {
          "base_uri": "https://localhost:8080/",
          "height": 78
        },
        "id": "H4ZpfMcdwxfh",
        "outputId": "0ba8e07d-58da-4e47-8ab9-93ce8730c199"
      },
      "source": [
        "a*x"
      ],
      "execution_count": null,
      "outputs": [
        {
          "output_type": "execute_result",
          "data": {
            "text/latex": "$\\displaystyle \\left[\\begin{matrix}x + 2 y + 3 z\\\\4 x + 8 y + 10 z\\\\10 x + 18 y + 30 z\\end{matrix}\\right]$",
            "text/plain": [
              "Matrix([\n",
              "[     x + 2*y + 3*z],\n",
              "[  4*x + 8*y + 10*z],\n",
              "[10*x + 18*y + 30*z]])"
            ]
          },
          "metadata": {
            "tags": []
          },
          "execution_count": 30
        }
      ]
    },
    {
      "cell_type": "code",
      "metadata": {
        "colab": {
          "base_uri": "https://localhost:8080/",
          "height": 78
        },
        "id": "8zDhqHQRw4cJ",
        "outputId": "5635a9b0-c62a-49b7-ae99-3c33ea9d5850"
      },
      "source": [
        "a*x-b"
      ],
      "execution_count": null,
      "outputs": [
        {
          "output_type": "execute_result",
          "data": {
            "text/latex": "$\\displaystyle \\left[\\begin{matrix}x + 2 y + 3 z - 10\\\\4 x + 8 y + 10 z - 20\\\\10 x + 18 y + 30 z - 30\\end{matrix}\\right]$",
            "text/plain": [
              "Matrix([\n",
              "[     x + 2*y + 3*z - 10],\n",
              "[  4*x + 8*y + 10*z - 20],\n",
              "[10*x + 18*y + 30*z - 30]])"
            ]
          },
          "metadata": {
            "tags": []
          },
          "execution_count": 31
        }
      ]
    },
    {
      "cell_type": "code",
      "metadata": {
        "colab": {
          "base_uri": "https://localhost:8080/"
        },
        "id": "0Y9eQGvxw8YB",
        "outputId": "99e69cb5-bb02-4ba8-f71a-7e9dc373a865"
      },
      "source": [
        "sp.solve(a*x-b)"
      ],
      "execution_count": null,
      "outputs": [
        {
          "output_type": "execute_result",
          "data": {
            "text/plain": [
              "{x: -90, y: 35, z: 10}"
            ]
          },
          "metadata": {
            "tags": []
          },
          "execution_count": 34
        }
      ]
    },
    {
      "cell_type": "code",
      "metadata": {
        "colab": {
          "base_uri": "https://localhost:8080/"
        },
        "id": "cdZFdJ1fxFNR",
        "outputId": "50144435-6ed5-4cd1-e119-c89a043d22ff"
      },
      "source": [
        "k = sp.symbols('k')\n",
        "f_k= k**2 - 2*k + 1\n",
        "sp.solve(f_k,k)"
      ],
      "execution_count": null,
      "outputs": [
        {
          "output_type": "execute_result",
          "data": {
            "text/plain": [
              "[1]"
            ]
          },
          "metadata": {
            "tags": []
          },
          "execution_count": 46
        }
      ]
    },
    {
      "cell_type": "code",
      "metadata": {
        "id": "ccmt6gPp0Ks5"
      },
      "source": [
        "x = sp.symbols('x')\n",
        "sp.init_printing\n",
        "f_x = x**3 + 5.*x**2 + x"
      ],
      "execution_count": null,
      "outputs": []
    },
    {
      "cell_type": "code",
      "metadata": {
        "colab": {
          "base_uri": "https://localhost:8080/",
          "height": 38
        },
        "id": "1VO7KRigk_Dm",
        "outputId": "9d60acc0-cdd3-4dd0-f030-24ccc5bf3c5a"
      },
      "source": [
        "f_x"
      ],
      "execution_count": null,
      "outputs": [
        {
          "output_type": "execute_result",
          "data": {
            "text/latex": "$\\displaystyle x^{3} + 5.0 x^{2} + x$",
            "text/plain": [
              "x**3 + 5.0*x**2 + x"
            ]
          },
          "metadata": {
            "tags": []
          },
          "execution_count": 8
        }
      ]
    },
    {
      "cell_type": "code",
      "metadata": {
        "colab": {
          "base_uri": "https://localhost:8080/"
        },
        "id": "kFp1YQZ6lfes",
        "outputId": "fa79c7b4-49b2-47bd-8f22-cb7257f003c5"
      },
      "source": [
        "sp.solve(f_x,x)"
      ],
      "execution_count": null,
      "outputs": [
        {
          "output_type": "execute_result",
          "data": {
            "text/plain": [
              "[-4.79128784747792, -0.208712152522080, 0.0]"
            ]
          },
          "metadata": {
            "tags": []
          },
          "execution_count": 9
        }
      ]
    },
    {
      "cell_type": "code",
      "metadata": {
        "colab": {
          "base_uri": "https://localhost:8080/",
          "height": 37
        },
        "id": "Lf5P64vQljBk",
        "outputId": "30ac3af8-a061-433a-e247-c4373304311a"
      },
      "source": [
        "sp.solveset(f_x,x)"
      ],
      "execution_count": null,
      "outputs": [
        {
          "output_type": "execute_result",
          "data": {
            "text/latex": "$\\displaystyle \\left\\{-4.79128784747792, -0.20871215252208, 0\\right\\}$",
            "text/plain": [
              "FiniteSet(-4.79128784747792, -0.20871215252208, 0)"
            ]
          },
          "metadata": {
            "tags": []
          },
          "execution_count": 10
        }
      ]
    },
    {
      "cell_type": "code",
      "metadata": {
        "colab": {
          "base_uri": "https://localhost:8080/",
          "height": 37
        },
        "id": "bwsy2zZEln1k",
        "outputId": "4b5fd368-7dd1-42b8-a7d6-e37e5f81a00b"
      },
      "source": [
        "f_x.subs(x,0)"
      ],
      "execution_count": null,
      "outputs": [
        {
          "output_type": "execute_result",
          "data": {
            "text/latex": "$\\displaystyle 0$",
            "text/plain": [
              "0"
            ]
          },
          "metadata": {
            "tags": []
          },
          "execution_count": 11
        }
      ]
    },
    {
      "cell_type": "code",
      "metadata": {
        "colab": {
          "base_uri": "https://localhost:8080/",
          "height": 78
        },
        "id": "EFZbcH-mmVcQ",
        "outputId": "3a7d45c3-4119-4eee-c14b-5e00da6909ee"
      },
      "source": [
        "A = sp.Matrix([[3,2,4],[1,1,2],[4,3,-2]])\n",
        "x1,x2,x3 = sp.symbols(['x1','x2','x3'])\n",
        "X = sp.Matrix(['x1','x2','x3'])\n",
        "B = sp.Matrix([1,2,3])\n",
        "A*X - B"
      ],
      "execution_count": null,
      "outputs": [
        {
          "output_type": "execute_result",
          "data": {
            "text/latex": "$\\displaystyle \\left[\\begin{matrix}3 x_{1} + 2 x_{2} + 4 x_{3} - 1\\\\x_{1} + x_{2} + 2 x_{3} - 2\\\\4 x_{1} + 3 x_{2} - 2 x_{3} - 3\\end{matrix}\\right]$",
            "text/plain": [
              "Matrix([\n",
              "[3*x1 + 2*x2 + 4*x3 - 1],\n",
              "[    x1 + x2 + 2*x3 - 2],\n",
              "[4*x1 + 3*x2 - 2*x3 - 3]])"
            ]
          },
          "metadata": {
            "tags": []
          },
          "execution_count": 15
        }
      ]
    },
    {
      "cell_type": "code",
      "metadata": {
        "colab": {
          "base_uri": "https://localhost:8080/"
        },
        "id": "Mv_ECH0hnByj",
        "outputId": "5390c572-8541-4373-d628-03d6b7d2d5c2"
      },
      "source": [
        "sp.solve(A*X-B)"
      ],
      "execution_count": null,
      "outputs": [
        {
          "output_type": "execute_result",
          "data": {
            "text/plain": [
              "{x1: -3, x2: 5, x3: 0}"
            ]
          },
          "metadata": {
            "tags": []
          },
          "execution_count": 16
        }
      ]
    },
    {
      "cell_type": "code",
      "metadata": {
        "colab": {
          "base_uri": "https://localhost:8080/",
          "height": 78
        },
        "id": "kfLaWIzVnDuL",
        "outputId": "ff62b5a2-c106-4956-eabf-4c6c0d01bb28"
      },
      "source": [
        "A**(-1)*B"
      ],
      "execution_count": null,
      "outputs": [
        {
          "output_type": "execute_result",
          "data": {
            "text/latex": "$\\displaystyle \\left[\\begin{matrix}-3\\\\5\\\\0\\end{matrix}\\right]$",
            "text/plain": [
              "Matrix([\n",
              "[-3],\n",
              "[ 5],\n",
              "[ 0]])"
            ]
          },
          "metadata": {
            "tags": []
          },
          "execution_count": 17
        }
      ]
    },
    {
      "cell_type": "code",
      "metadata": {
        "colab": {
          "base_uri": "https://localhost:8080/",
          "height": 38
        },
        "id": "dd7CoFnPn65p",
        "outputId": "f46410cf-2943-4d85-9c35-8a51b1f1f6d5"
      },
      "source": [
        "sp.diff(f_x,x,x)"
      ],
      "execution_count": null,
      "outputs": [
        {
          "output_type": "execute_result",
          "data": {
            "text/latex": "$\\displaystyle 6 x + 10.0$",
            "text/plain": [
              "6*x + 10.0"
            ]
          },
          "metadata": {
            "tags": []
          },
          "execution_count": 21
        }
      ]
    },
    {
      "cell_type": "code",
      "metadata": {
        "colab": {
          "base_uri": "https://localhost:8080/",
          "height": 212
        },
        "id": "je8McC78pLA7",
        "outputId": "9bfa395c-079b-4579-d371-7aaa049bfc7d"
      },
      "source": [
        "y_x = sp.Function('y_x')\n",
        "d2y_x = sp.Derivative(y_x(x),x,x)\n",
        "eqdif = d2y_x - 5\n",
        "sp.dsolve(eqdif)"
      ],
      "execution_count": null,
      "outputs": [
        {
          "output_type": "error",
          "ename": "NameError",
          "evalue": "ignored",
          "traceback": [
            "\u001b[0;31m---------------------------------------------------------------------------\u001b[0m",
            "\u001b[0;31mNameError\u001b[0m                                 Traceback (most recent call last)",
            "\u001b[0;32m<ipython-input-4-51173b032a69>\u001b[0m in \u001b[0;36m<module>\u001b[0;34m()\u001b[0m\n\u001b[1;32m      1\u001b[0m \u001b[0my_x\u001b[0m \u001b[0;34m=\u001b[0m \u001b[0msp\u001b[0m\u001b[0;34m.\u001b[0m\u001b[0mFunction\u001b[0m\u001b[0;34m(\u001b[0m\u001b[0;34m'y_x'\u001b[0m\u001b[0;34m)\u001b[0m\u001b[0;34m\u001b[0m\u001b[0;34m\u001b[0m\u001b[0m\n\u001b[0;32m----> 2\u001b[0;31m \u001b[0md2y_x\u001b[0m \u001b[0;34m=\u001b[0m \u001b[0msp\u001b[0m\u001b[0;34m.\u001b[0m\u001b[0mDerivative\u001b[0m\u001b[0;34m(\u001b[0m\u001b[0my_x\u001b[0m\u001b[0;34m(\u001b[0m\u001b[0mx\u001b[0m\u001b[0;34m)\u001b[0m\u001b[0;34m,\u001b[0m\u001b[0mx\u001b[0m\u001b[0;34m,\u001b[0m\u001b[0mx\u001b[0m\u001b[0;34m)\u001b[0m\u001b[0;34m\u001b[0m\u001b[0;34m\u001b[0m\u001b[0m\n\u001b[0m\u001b[1;32m      3\u001b[0m \u001b[0meqdif\u001b[0m \u001b[0;34m=\u001b[0m \u001b[0md2y_x\u001b[0m \u001b[0;34m-\u001b[0m \u001b[0;36m5\u001b[0m\u001b[0;34m\u001b[0m\u001b[0;34m\u001b[0m\u001b[0m\n\u001b[1;32m      4\u001b[0m \u001b[0msp\u001b[0m\u001b[0;34m.\u001b[0m\u001b[0mdsolve\u001b[0m\u001b[0;34m(\u001b[0m\u001b[0meqdif\u001b[0m\u001b[0;34m)\u001b[0m\u001b[0;34m\u001b[0m\u001b[0;34m\u001b[0m\u001b[0m\n",
            "\u001b[0;31mNameError\u001b[0m: name 'x' is not defined"
          ]
        }
      ]
    },
    {
      "cell_type": "code",
      "metadata": {
        "colab": {
          "base_uri": "https://localhost:8080/",
          "height": 37
        },
        "id": "rjQ9Gn-3qQqN",
        "outputId": "5d800744-0e16-4fa1-e26f-4d0aa515add2"
      },
      "source": [
        "sp.linsolve(A*X-B)"
      ],
      "execution_count": null,
      "outputs": [
        {
          "output_type": "execute_result",
          "data": {
            "text/latex": "$\\displaystyle \\left\\{\\left( \\right)\\right\\}$",
            "text/plain": [
              "FiniteSet(())"
            ]
          },
          "metadata": {
            "tags": []
          },
          "execution_count": 24
        }
      ]
    },
    {
      "cell_type": "code",
      "metadata": {
        "colab": {
          "base_uri": "https://localhost:8080/",
          "height": 37
        },
        "id": "4Nc2xfesrnvE",
        "outputId": "74b13a15-d5fe-4a06-f92a-e4fea0f2b825"
      },
      "source": [
        "sp.linsolve((A,B),[x1,x2,x3])"
      ],
      "execution_count": null,
      "outputs": [
        {
          "output_type": "execute_result",
          "data": {
            "text/latex": "$\\displaystyle \\left\\{\\left( -3, \\  5, \\  0\\right)\\right\\}$",
            "text/plain": [
              "FiniteSet((-3, 5, 0))"
            ]
          },
          "metadata": {
            "tags": []
          },
          "execution_count": 27
        }
      ]
    },
    {
      "cell_type": "code",
      "metadata": {
        "colab": {
          "base_uri": "https://localhost:8080/",
          "height": 58
        },
        "id": "DLLlqHEVr1aU",
        "outputId": "35d69cf5-f0b2-44bb-b24a-8c36b62556bf"
      },
      "source": [
        "A = sp.Matrix([[1,2],[4,5]])\n",
        "A"
      ],
      "execution_count": null,
      "outputs": [
        {
          "output_type": "execute_result",
          "data": {
            "text/latex": "$\\displaystyle \\left[\\begin{matrix}1 & 2\\\\4 & 5\\end{matrix}\\right]$",
            "text/plain": [
              "Matrix([\n",
              "[1, 2],\n",
              "[4, 5]])"
            ]
          },
          "metadata": {
            "tags": []
          },
          "execution_count": 28
        }
      ]
    },
    {
      "cell_type": "code",
      "metadata": {
        "colab": {
          "base_uri": "https://localhost:8080/",
          "height": 37
        },
        "id": "f6SW8zqrur8l",
        "outputId": "e782b5a7-f3aa-40ae-8792-e2e8fb32c620"
      },
      "source": [
        "A.det()"
      ],
      "execution_count": null,
      "outputs": [
        {
          "output_type": "execute_result",
          "data": {
            "text/latex": "$\\displaystyle -3$",
            "text/plain": [
              "-3"
            ]
          },
          "metadata": {
            "tags": []
          },
          "execution_count": 29
        }
      ]
    },
    {
      "cell_type": "code",
      "metadata": {
        "colab": {
          "base_uri": "https://localhost:8080/",
          "height": 58
        },
        "id": "z0QQoCdRuwyx",
        "outputId": "0a52d0cb-29ac-40d2-d860-ba558d2f3c5b"
      },
      "source": [
        "A.T"
      ],
      "execution_count": null,
      "outputs": [
        {
          "output_type": "execute_result",
          "data": {
            "text/latex": "$\\displaystyle \\left[\\begin{matrix}1 & 4\\\\2 & 5\\end{matrix}\\right]$",
            "text/plain": [
              "Matrix([\n",
              "[1, 4],\n",
              "[2, 5]])"
            ]
          },
          "metadata": {
            "tags": []
          },
          "execution_count": 30
        }
      ]
    },
    {
      "cell_type": "code",
      "metadata": {
        "colab": {
          "base_uri": "https://localhost:8080/",
          "height": 58
        },
        "id": "20uuQBFYu0Oa",
        "outputId": "55ac7339-4da7-43f9-c71c-c66487e1fa2f"
      },
      "source": [
        "A**(-1)"
      ],
      "execution_count": null,
      "outputs": [
        {
          "output_type": "execute_result",
          "data": {
            "text/latex": "$\\displaystyle \\left[\\begin{matrix}- \\frac{5}{3} & \\frac{2}{3}\\\\\\frac{4}{3} & - \\frac{1}{3}\\end{matrix}\\right]$",
            "text/plain": [
              "Matrix([\n",
              "[-5/3,  2/3],\n",
              "[ 4/3, -1/3]])"
            ]
          },
          "metadata": {
            "tags": []
          },
          "execution_count": 31
        }
      ]
    },
    {
      "cell_type": "code",
      "metadata": {
        "colab": {
          "base_uri": "https://localhost:8080/",
          "height": 58
        },
        "id": "qqoyZq4lu42q",
        "outputId": "5304130e-ed7f-48d4-c465-225ea3406164"
      },
      "source": [
        "B=sp.Matrix([[np.cos(np.pi/4),-np.sin(np.pi/4)],[np.sin(np.pi/4),np.cos(np.pi/4)]])\n",
        "B"
      ],
      "execution_count": null,
      "outputs": [
        {
          "output_type": "execute_result",
          "data": {
            "text/latex": "$\\displaystyle \\left[\\begin{matrix}0.707106781186548 & -0.707106781186547\\\\0.707106781186547 & 0.707106781186548\\end{matrix}\\right]$",
            "text/plain": [
              "Matrix([\n",
              "[0.707106781186548, -0.707106781186547],\n",
              "[0.707106781186547,  0.707106781186548]])"
            ]
          },
          "metadata": {
            "tags": []
          },
          "execution_count": 39
        }
      ]
    },
    {
      "cell_type": "code",
      "metadata": {
        "colab": {
          "base_uri": "https://localhost:8080/",
          "height": 37
        },
        "id": "OeaYj-ycvUUi",
        "outputId": "5181ecfa-b775-4fa4-cfe7-9ef38383350a"
      },
      "source": [
        "B.det()"
      ],
      "execution_count": null,
      "outputs": [
        {
          "output_type": "execute_result",
          "data": {
            "text/latex": "$\\displaystyle 1.0$",
            "text/plain": [
              "1.00000000000000"
            ]
          },
          "metadata": {
            "tags": []
          },
          "execution_count": 40
        }
      ]
    },
    {
      "cell_type": "code",
      "metadata": {
        "colab": {
          "base_uri": "https://localhost:8080/",
          "height": 58
        },
        "id": "l5OTLBO2wGOL",
        "outputId": "9865ed64-f471-45b7-fdd6-3c9f055276df"
      },
      "source": [
        "B.T"
      ],
      "execution_count": null,
      "outputs": [
        {
          "output_type": "execute_result",
          "data": {
            "text/latex": "$\\displaystyle \\left[\\begin{matrix}0.707106781186548 & 0.707106781186547\\\\-0.707106781186547 & 0.707106781186548\\end{matrix}\\right]$",
            "text/plain": [
              "Matrix([\n",
              "[ 0.707106781186548, 0.707106781186547],\n",
              "[-0.707106781186547, 0.707106781186548]])"
            ]
          },
          "metadata": {
            "tags": []
          },
          "execution_count": 41
        }
      ]
    },
    {
      "cell_type": "code",
      "metadata": {
        "colab": {
          "base_uri": "https://localhost:8080/",
          "height": 58
        },
        "id": "xWljY17mwNRq",
        "outputId": "b32f5bde-bad4-48a8-c7fc-a519cb3be2d7"
      },
      "source": [
        "B**(-1)"
      ],
      "execution_count": null,
      "outputs": [
        {
          "output_type": "execute_result",
          "data": {
            "text/latex": "$\\displaystyle \\left[\\begin{matrix}0.707106781186548 & 0.707106781186547\\\\-0.707106781186547 & 0.707106781186548\\end{matrix}\\right]$",
            "text/plain": [
              "Matrix([\n",
              "[ 0.707106781186548, 0.707106781186547],\n",
              "[-0.707106781186547, 0.707106781186548]])"
            ]
          },
          "metadata": {
            "tags": []
          },
          "execution_count": 42
        }
      ]
    },
    {
      "cell_type": "code",
      "metadata": {
        "colab": {
          "base_uri": "https://localhost:8080/",
          "height": 58
        },
        "id": "tYBIKTrmwRfa",
        "outputId": "369786da-5122-4a87-ad33-896eac88ead4"
      },
      "source": [
        "C = sp.Matrix([[2,-2],[-2,5]])\n",
        "C"
      ],
      "execution_count": null,
      "outputs": [
        {
          "output_type": "execute_result",
          "data": {
            "text/latex": "$\\displaystyle \\left[\\begin{matrix}2 & -2\\\\-2 & 5\\end{matrix}\\right]$",
            "text/plain": [
              "Matrix([\n",
              "[ 2, -2],\n",
              "[-2,  5]])"
            ]
          },
          "metadata": {
            "tags": []
          },
          "execution_count": 43
        }
      ]
    },
    {
      "cell_type": "code",
      "metadata": {
        "colab": {
          "base_uri": "https://localhost:8080/",
          "height": 37
        },
        "id": "IyXvFktTxBtb",
        "outputId": "377db209-c564-4c71-8ec8-bbf624a2babc"
      },
      "source": [
        "C.det()"
      ],
      "execution_count": null,
      "outputs": [
        {
          "output_type": "execute_result",
          "data": {
            "text/latex": "$\\displaystyle 6$",
            "text/plain": [
              "6"
            ]
          },
          "metadata": {
            "tags": []
          },
          "execution_count": 44
        }
      ]
    },
    {
      "cell_type": "code",
      "metadata": {
        "colab": {
          "base_uri": "https://localhost:8080/",
          "height": 58
        },
        "id": "hCIoD6tkxEpa",
        "outputId": "0f625dcf-1ca2-4ec4-ecab-ffdb94d46159"
      },
      "source": [
        "C.T"
      ],
      "execution_count": null,
      "outputs": [
        {
          "output_type": "execute_result",
          "data": {
            "text/latex": "$\\displaystyle \\left[\\begin{matrix}2 & -2\\\\-2 & 5\\end{matrix}\\right]$",
            "text/plain": [
              "Matrix([\n",
              "[ 2, -2],\n",
              "[-2,  5]])"
            ]
          },
          "metadata": {
            "tags": []
          },
          "execution_count": 45
        }
      ]
    },
    {
      "cell_type": "code",
      "metadata": {
        "colab": {
          "base_uri": "https://localhost:8080/",
          "height": 58
        },
        "id": "lBAyebDYxK_i",
        "outputId": "cb6581ec-98fc-4224-e0c1-389e88770d76"
      },
      "source": [
        "C**(-1)"
      ],
      "execution_count": null,
      "outputs": [
        {
          "output_type": "execute_result",
          "data": {
            "text/latex": "$\\displaystyle \\left[\\begin{matrix}\\frac{5}{6} & \\frac{1}{3}\\\\\\frac{1}{3} & \\frac{1}{3}\\end{matrix}\\right]$",
            "text/plain": [
              "Matrix([\n",
              "[5/6, 1/3],\n",
              "[1/3, 1/3]])"
            ]
          },
          "metadata": {
            "tags": []
          },
          "execution_count": 46
        }
      ]
    },
    {
      "cell_type": "code",
      "metadata": {
        "colab": {
          "base_uri": "https://localhost:8080/",
          "height": 58
        },
        "id": "qRQTA33WxRnC",
        "outputId": "e776611f-09b4-48ea-9af0-9f300d82a7bc"
      },
      "source": [
        "D=sp.Matrix([[2,2],[4,4]])\n",
        "D"
      ],
      "execution_count": null,
      "outputs": [
        {
          "output_type": "execute_result",
          "data": {
            "text/latex": "$\\displaystyle \\left[\\begin{matrix}2 & 2\\\\4 & 4\\end{matrix}\\right]$",
            "text/plain": [
              "Matrix([\n",
              "[2, 2],\n",
              "[4, 4]])"
            ]
          },
          "metadata": {
            "tags": []
          },
          "execution_count": 48
        }
      ]
    },
    {
      "cell_type": "code",
      "metadata": {
        "colab": {
          "base_uri": "https://localhost:8080/",
          "height": 37
        },
        "id": "KxjPTDY_xffR",
        "outputId": "db689fc4-1a84-4209-9e7f-b79aed3b88f2"
      },
      "source": [
        "D.det()"
      ],
      "execution_count": null,
      "outputs": [
        {
          "output_type": "execute_result",
          "data": {
            "text/latex": "$\\displaystyle 0$",
            "text/plain": [
              "0"
            ]
          },
          "metadata": {
            "tags": []
          },
          "execution_count": 49
        }
      ]
    },
    {
      "cell_type": "code",
      "metadata": {
        "colab": {
          "base_uri": "https://localhost:8080/",
          "height": 58
        },
        "id": "Fby9LM7bxjPp",
        "outputId": "e99de12c-39dc-41e4-959b-040771baeee0"
      },
      "source": [
        "D.T"
      ],
      "execution_count": null,
      "outputs": [
        {
          "output_type": "execute_result",
          "data": {
            "text/latex": "$\\displaystyle \\left[\\begin{matrix}2 & 4\\\\2 & 4\\end{matrix}\\right]$",
            "text/plain": [
              "Matrix([\n",
              "[2, 4],\n",
              "[2, 4]])"
            ]
          },
          "metadata": {
            "tags": []
          },
          "execution_count": 50
        }
      ]
    },
    {
      "cell_type": "code",
      "metadata": {
        "colab": {
          "base_uri": "https://localhost:8080/",
          "height": 38
        },
        "id": "SrJsj4aIxm0R",
        "outputId": "eecb2b86-ed45-4205-f395-99a337e3ea0b"
      },
      "source": [
        "x,y = sp.symbols(['x','y'])\n",
        "A_x= sp.exp(x)\n",
        "A_x\n",
        "dy_x = sp.diff(A_x,x)\n",
        "dy_x"
      ],
      "execution_count": null,
      "outputs": [
        {
          "output_type": "execute_result",
          "data": {
            "text/latex": "$\\displaystyle e^{x}$",
            "text/plain": [
              "exp(x)"
            ]
          },
          "metadata": {
            "tags": []
          },
          "execution_count": 69
        }
      ]
    },
    {
      "cell_type": "code",
      "metadata": {
        "colab": {
          "base_uri": "https://localhost:8080/",
          "height": 38
        },
        "id": "vkKtNAKvxpBh",
        "outputId": "eeb7f29f-0ad9-4217-b03a-568a330b2787"
      },
      "source": [
        "sp.integrate(A_x,x)"
      ],
      "execution_count": null,
      "outputs": [
        {
          "output_type": "execute_result",
          "data": {
            "text/latex": "$\\displaystyle e^{x}$",
            "text/plain": [
              "exp(x)"
            ]
          },
          "metadata": {
            "tags": []
          },
          "execution_count": 70
        }
      ]
    },
    {
      "cell_type": "code",
      "metadata": {
        "colab": {
          "base_uri": "https://localhost:8080/",
          "height": 37
        },
        "id": "rus8zraZzwgK",
        "outputId": "7ea71000-5c3c-43ea-f8f9-865fc10e2d6b"
      },
      "source": [
        "sp.integrate(1,(x,0,3),(y,0,4))"
      ],
      "execution_count": null,
      "outputs": [
        {
          "output_type": "execute_result",
          "data": {
            "text/latex": "$\\displaystyle 12$",
            "text/plain": [
              "12"
            ]
          },
          "metadata": {
            "tags": []
          },
          "execution_count": 77
        }
      ]
    },
    {
      "cell_type": "code",
      "metadata": {
        "colab": {
          "base_uri": "https://localhost:8080/",
          "height": 59
        },
        "id": "zV4S7Ni91Q9n",
        "outputId": "524ca82f-71a9-49e6-8ede-bc2dc51791b2"
      },
      "source": [
        "sp.init_printing()\n",
        "x= sp.symbols('x')\n",
        "y_x = sp.Function('y_x')\n",
        "dy_x= sp.Derivative(y_x(x),x)\n",
        "eqdif = dy_x - x**2/y_x(x)\n",
        "sp.dsolve(eqdif)"
      ],
      "execution_count": null,
      "outputs": [
        {
          "output_type": "execute_result",
          "data": {
            "image/png": "[encoded data removed]",
            "text/latex": "$\\displaystyle \\left[ \\operatorname{y_{x}}{\\left(x \\right)} = - \\frac{\\sqrt{C_{1} + 6 x^{3}}}{3}, \\  \\operatorname{y_{x}}{\\left(x \\right)} = \\frac{\\sqrt{C_{1} + 6 x^{3}}}{3}\\right]$",
            "text/plain": [
              "⎡            ___________              ___________⎤\n",
              "⎢           ╱         3              ╱         3 ⎥\n",
              "⎢        -╲╱  C₁ + 6⋅x             ╲╱  C₁ + 6⋅x  ⎥\n",
              "⎢yₓ(x) = ────────────────, yₓ(x) = ──────────────⎥\n",
              "⎣               3                        3       ⎦"
            ]
          },
          "metadata": {
            "tags": []
          },
          "execution_count": 9
        }
      ]
    },
    {
      "cell_type": "code",
      "metadata": {
        "colab": {
          "base_uri": "https://localhost:8080/",
          "height": 68
        },
        "id": "_Vgth72G46ZQ",
        "outputId": "b66719aa-7e76-43be-bc25-64c176409b71"
      },
      "source": [
        "t,m,k,c,x_0,v_0= sp.symbols(['t','m','k','c','x_0','v_0'])\n",
        "x_t = sp.Function('x_t')\n",
        "dx_t = sp.Derivative(x_t(t),t)\n",
        "d2x_t2 = sp.Derivative(x_t(t),t,t)\n",
        "eqdift = m*d2x_t2 + c*dx_t + k*x_t(t)\n",
        "f = sp.dsolve(eqdift)\n",
        "print(f)\n",
        "f"
      ],
      "execution_count": null,
      "outputs": [
        {
          "output_type": "stream",
          "text": [
            "Eq(x_t(t), C1*exp(t*(-c - sqrt(c**2 - 4*k*m))/(2*m)) + C2*exp(t*(-c + sqrt(c**2 - 4*k*m))/(2*m)))\n"
          ],
          "name": "stdout"
        },
        {
          "output_type": "execute_result",
          "data": {
            "text/latex": "$\\displaystyle \\operatorname{x_{t}}{\\left(t \\right)} = C_{1} e^{\\frac{t \\left(- c - \\sqrt{c^{2} - 4 k m}\\right)}{2 m}} + C_{2} e^{\\frac{t \\left(- c + \\sqrt{c^{2} - 4 k m}\\right)}{2 m}}$",
            "text/plain": [
              "Eq(x_t(t), C1*exp(t*(-c - sqrt(c**2 - 4*k*m))/(2*m)) + C2*exp(t*(-c + sqrt(c**2 - 4*k*m))/(2*m)))"
            ]
          },
          "metadata": {
            "tags": []
          },
          "execution_count": 14
        }
      ]
    },
    {
      "cell_type": "code",
      "metadata": {
        "id": "ovWX5YEG5Aia",
        "colab": {
          "base_uri": "https://localhost:8080/",
          "height": 69
        },
        "outputId": "ee508423-6046-4fa4-bc4a-86c6533b8350"
      },
      "source": [
        "C1, C2 = sp.symbols(['C1','C2'])\n",
        "x_t_solved = C1*sp.exp(t*(-c - sp.sqrt(c**2 - 4*k*m))/(2*m)) + C2*sp.exp(t*(-c + sp.sqrt(c**2 - 4*k*m))/(2*m))\n",
        "dx_t_solved = sp.diff(x_t_solved, t)\n",
        "dx_t_solved"
      ],
      "execution_count": null,
      "outputs": [
        {
          "output_type": "execute_result",
          "data": {
            "text/latex": "$\\displaystyle \\frac{C_{1} \\left(- c - \\sqrt{c^{2} - 4 k m}\\right) e^{\\frac{t \\left(- c - \\sqrt{c^{2} - 4 k m}\\right)}{2 m}}}{2 m} + \\frac{C_{2} \\left(- c + \\sqrt{c^{2} - 4 k m}\\right) e^{\\frac{t \\left(- c + \\sqrt{c^{2} - 4 k m}\\right)}{2 m}}}{2 m}$",
            "text/plain": [
              "C1*(-c - sqrt(c**2 - 4*k*m))*exp(t*(-c - sqrt(c**2 - 4*k*m))/(2*m))/(2*m) + C2*(-c + sqrt(c**2 - 4*k*m))*exp(t*(-c + sqrt(c**2 - 4*k*m))/(2*m))/(2*m)"
            ]
          },
          "metadata": {
            "tags": []
          },
          "execution_count": 15
        }
      ]
    },
    {
      "cell_type": "code",
      "metadata": {
        "colab": {
          "base_uri": "https://localhost:8080/",
          "height": 60
        },
        "id": "Emw6C2yXYgFB",
        "outputId": "ff14b8d0-2d2c-4fd5-b7aa-c95262bca216"
      },
      "source": [
        "eq1 = x_t_solved.subs(t,0) - x_0\n",
        "sp.solve(eq1,C1)\n",
        "C1_solved = sp.solve(eq1,C1)[0]\n",
        "dx_t_solved = dx_t_solved.subs(C1,C1_solved)\n",
        "eq2 = dx_t_solved.subs(t,0) - v_0\n",
        "sp.solve(eq2, C2)\n",
        "C2_solved= sp.solve(eq2,C2)[0]\n",
        "C2_solved"
      ],
      "execution_count": null,
      "outputs": [
        {
          "output_type": "execute_result",
          "data": {
            "text/latex": "$\\displaystyle \\frac{c x_{0} + 2 m v_{0} + x_{0} \\sqrt{c^{2} - 4 k m}}{2 \\sqrt{c^{2} - 4 k m}}$",
            "text/plain": [
              "(c*x_0 + 2*m*v_0 + x_0*sqrt(c**2 - 4*k*m))/(2*sqrt(c**2 - 4*k*m))"
            ]
          },
          "metadata": {
            "tags": []
          },
          "execution_count": 16
        }
      ]
    },
    {
      "cell_type": "code",
      "metadata": {
        "colab": {
          "base_uri": "https://localhost:8080/",
          "height": 78
        },
        "id": "zu_FcaWJcCq1",
        "outputId": "d77a144f-92b6-471c-cd32-1a16f26d5a3c"
      },
      "source": [
        "x_t_solved = x_t_solved.subs(C2,C2_solved).subs(C1,C1_solved)\n",
        "x_t_solved"
      ],
      "execution_count": null,
      "outputs": [
        {
          "output_type": "execute_result",
          "data": {
            "text/latex": "$\\displaystyle \\left(x_{0} - \\frac{c x_{0} + 2 m v_{0} + x_{0} \\sqrt{c^{2} - 4 k m}}{2 \\sqrt{c^{2} - 4 k m}}\\right) e^{\\frac{t \\left(- c - \\sqrt{c^{2} - 4 k m}\\right)}{2 m}} + \\frac{\\left(c x_{0} + 2 m v_{0} + x_{0} \\sqrt{c^{2} - 4 k m}\\right) e^{\\frac{t \\left(- c + \\sqrt{c^{2} - 4 k m}\\right)}{2 m}}}{2 \\sqrt{c^{2} - 4 k m}}$",
            "text/plain": [
              "(x_0 - (c*x_0 + 2*m*v_0 + x_0*sqrt(c**2 - 4*k*m))/(2*sqrt(c**2 - 4*k*m)))*exp(t*(-c - sqrt(c**2 - 4*k*m))/(2*m)) + (c*x_0 + 2*m*v_0 + x_0*sqrt(c**2 - 4*k*m))*exp(t*(-c + sqrt(c**2 - 4*k*m))/(2*m))/(2*sqrt(c**2 - 4*k*m))"
            ]
          },
          "metadata": {
            "tags": []
          },
          "execution_count": 19
        }
      ]
    },
    {
      "cell_type": "code",
      "metadata": {
        "colab": {
          "base_uri": "https://localhost:8080/"
        },
        "id": "zsx7Z5hDcSQE",
        "outputId": "b5b97a27-48c5-437a-a4bc-068954a0e42a"
      },
      "source": [
        "A = sp.Matrix([[1,1,1],[1,2,2],[2,1,3]])\n",
        "\n",
        "x1,x2,x3 = sp.symbols(['x1','x2','x3'])\n",
        "X = sp.Matrix([x1,x2,x3])\n",
        "\n",
        "B = sp.Matrix([6,9,11])\n",
        "\n",
        "sp.solve(A*X - B)"
      ],
      "execution_count": null,
      "outputs": [
        {
          "output_type": "execute_result",
          "data": {
            "text/plain": [
              "{x1: 3, x2: 2, x3: 1}"
            ]
          },
          "metadata": {
            "tags": []
          },
          "execution_count": 23
        }
      ]
    },
    {
      "cell_type": "code",
      "metadata": {
        "colab": {
          "base_uri": "https://localhost:8080/",
          "height": 78
        },
        "id": "2gptNs9Aj9lX",
        "outputId": "a175ee85-8dfd-4167-b1c1-8f52876e56db"
      },
      "source": [
        "A**(-1)*B"
      ],
      "execution_count": null,
      "outputs": [
        {
          "output_type": "execute_result",
          "data": {
            "text/latex": "$\\displaystyle \\left[\\begin{matrix}3\\\\2\\\\1\\end{matrix}\\right]$",
            "text/plain": [
              "Matrix([\n",
              "[3],\n",
              "[2],\n",
              "[1]])"
            ]
          },
          "metadata": {
            "tags": []
          },
          "execution_count": 24
        }
      ]
    },
    {
      "cell_type": "code",
      "metadata": {
        "colab": {
          "base_uri": "https://localhost:8080/",
          "height": 38
        },
        "id": "SEie43Cvka68",
        "outputId": "abdcab5d-38d1-49b8-faef-1b55e092dd87"
      },
      "source": [
        "phi,theta=sp.symbols(['phi','theta'])\n",
        "x = 10*sp.sin(phi)*sp.cos(theta)\n",
        "y = 10*sp.sin(phi)*sp.sin(theta)\n",
        "z = 10*sp.cos(phi)\n",
        "dxdtheta= sp.diff(x,theta)\n",
        "dydtheta= sp.diff(y,theta)\n",
        "dzdtheta= sp.diff(z,theta)\n",
        "\n",
        "dxdphi= sp.diff(x,phi)\n",
        "dydphi= sp.diff(y,phi)\n",
        "dzdphi= sp.diff(z,phi)\n",
        "\n",
        "arraytheta = np.array([dxdtheta,dydtheta,dzdtheta])\n",
        "arrayphi = np.array([dxdphi,dydphi,dzdphi])\n",
        "\n",
        "A = np.cross(arraytheta,arrayphi)\n",
        "ModuloA = (A[0]**2+A[1]**2+A[2]**2)**(1/2)\n",
        "sp.integrate(ModuloA,(theta,0,2*sp.pi),(phi,0,sp.pi/2))"
      ],
      "execution_count": null,
      "outputs": [
        {
          "output_type": "execute_result",
          "data": {
            "text/latex": "$\\displaystyle 200.0 \\pi$",
            "text/plain": [
              "200.0*pi"
            ]
          },
          "metadata": {
            "tags": []
          },
          "execution_count": 39
        }
      ]
    },
    {
      "cell_type": "code",
      "metadata": {
        "colab": {
          "base_uri": "https://localhost:8080/",
          "height": 37
        },
        "id": "FA1z9U5nzjNH",
        "outputId": "8d1bfbeb-05db-49d2-f7cf-6a10d3f770a5"
      },
      "source": [
        "sp.integrate(A,(theta,0,2*sp.pi),(phi,0,sp.pi/2))"
      ],
      "execution_count": null,
      "outputs": [
        {
          "output_type": "execute_result",
          "data": {
            "text/latex": "$\\displaystyle 0$",
            "text/plain": [
              "0"
            ]
          },
          "metadata": {
            "tags": []
          },
          "execution_count": 32
        }
      ]
    },
    {
      "cell_type": "code",
      "metadata": {
        "colab": {
          "base_uri": "https://localhost:8080/",
          "height": 46
        },
        "id": "bbp2V2fw7NHQ",
        "outputId": "4d3bda6f-0cce-401b-c23c-969a4033e7d0"
      },
      "source": [
        "t,m,k,c,omega_b,Y= sp.symbols(['t','m','k','c','omega_b','Y'])\n",
        "x_t = sp.Function('x_t')\n",
        "dx_t = sp.Derivative(x_t(t),t)\n",
        "y = Y*sp.sin(omega_b*t)\n",
        "dy_t = sp.diff(y,t) \n",
        "ddx_t = sp.Derivative(x_t(t),t,t)\n",
        "eqdift = m*ddx_t + c*(dx_t - dy_t) + k*(x_t(t) - y)\n",
        "f = sp.dsolve(eqdift).subs([(m,200),(k,10**4),(c,5*10**2),(Y,0.2),(omega_b,30/0.2)])\n",
        "f"
      ],
      "execution_count": null,
      "outputs": [
        {
          "output_type": "execute_result",
          "data": {
            "image/png": "[encoded data removed]",
            "text/latex": "$\\displaystyle \\operatorname{x_{t}}{\\left(t \\right)} = C_{1} e^{\\frac{t \\left(-500 - 500 \\sqrt{31} i\\right)}{400}} + C_{2} e^{\\frac{t \\left(-500 + 500 \\sqrt{31} i\\right)}{400}} - 0.000389522320670345 \\sin{\\left(150.0 t \\right)} - 0.00334726373586866 \\cos{\\left(150.0 t \\right)}$",
            "text/plain": [
              "            t⋅(-500 - 500⋅√31⋅ⅈ)       t⋅(-500 + 500⋅√31⋅ⅈ)                   \n",
              "            ────────────────────       ────────────────────                   \n",
              "                    400                        400                            \n",
              "xₜ(t) = C₁⋅ℯ                     + C₂⋅ℯ                     - 0.00038952232067\n",
              "\n",
              "                                                    \n",
              "                                                    \n",
              "                                                    \n",
              "0345⋅sin(150.0⋅t) - 0.00334726373586866⋅cos(150.0⋅t)"
            ]
          },
          "metadata": {
            "tags": []
          },
          "execution_count": 48
        }
      ]
    },
    {
      "cell_type": "code",
      "metadata": {
        "id": "QnUGNP7ty8j3"
      },
      "source": [
        "C1, C2 = sp.symbols(['C1','C2'])\n",
        "x_t_solved = C1*sp.exp(t*(-c - sp.sqrt(c**2 - 4*k*m))/(2*m)) + C2*sp.exp(t*(-c + sp.sqrt(c**2 - 4*k*m))/(2*m)) + Y*c**2*omega_b**2*sp.sin(omega_b*t)/(c**2*omega_b**2 + k**2 - 2*k*m*omega_b**2 + m**2*omega_b**4) - Y*c*m*omega_b**3*sp.cos(omega_b*t)/(c**2*omega_b**2 + k**2 - 2*k*m*omega_b**2 + m**2*omega_b**4) + Y*k**2*sp.sin(omega_b*t)/(c**2*omega_b**2 + k**2 - 2*k*m*omega_b**2 + m**2*omega_b**4) - Y*k*m*omega_b**2*sp.sin(omega_b*t)/(c**2*omega_b**2 + k**2 - 2*k*m*omega_b**2 + m**2*omega_b**4)\n",
        "dx_t_solved = sp.diff(x_t_solved, t)\n",
        "eq1 = x_t_solved.subs(t,0)\n",
        "sp.solve(eq1,C1)\n",
        "C1_solved = sp.solve(eq1,C1)[0]\n",
        "dx_t_solved = dx_t_solved.subs(C1,C1_solved)\n",
        "eq2 = dx_t_solved.subs(t,0)\n",
        "sp.solve(eq2, C2)\n",
        "C2_solved= sp.solve(eq2,C2)[0]\n",
        "C2_solved\n",
        "x_t_solved = x_t_solved.subs(C1,C1_solved)\n",
        "x_t_solved = x_t_solved.subs(C2,C2_solved)\n",
        "x_t_solved.subs([(m,200),(k,10**4),(c,5*10**2),(Y,0.2),(omega_b,30/0.2)])"
      ],
      "execution_count": null,
      "outputs": []
    },
    {
      "cell_type": "code",
      "metadata": {
        "id": "3KxUAMDI2nfs",
        "colab": {
          "base_uri": "https://localhost:8080/",
          "height": 282
        },
        "outputId": "3fd52936-9e46-45b8-f5d0-37a2b25872f1"
      },
      "source": [
        "import sympy as sp\n",
        "m = 200\n",
        "k = 1*10**4\n",
        "c = 500\n",
        "v = 30\n",
        "r = 0.2\n",
        "\n",
        "v_m = v/3.6\n",
        "w_b = v_m/r\n",
        "\n",
        "t, C1, C2 = sp.symbols(['t','C1','C2'])\n",
        "y = r*sp.sin(w_b*t)\n",
        "dy_t = sp.diff(y,t)\n",
        "\n",
        "x = sp.Function('x')\n",
        "dx_t = sp.Derivative(x(t),t)\n",
        "ddx_t = sp.Derivative(x(t),t,t)\n",
        "\n",
        "motion = m*ddx_t + c*(dx_t - dy_t) + k*(x(t) - y)\n",
        "x_t = sp.dsolve(motion)\n",
        "\n",
        "x_t =(C1*sp.sin(5*sp.sqrt(31)*t/4) + C2*sp.cos(5*sp.sqrt(31)*t/4))*sp.exp(-5*t/4) - 0.00514782472332082*sp.sin(41.6666666666667*t) - 0.0126738771451805*sp.cos(41.6666666666667*t)\n",
        "dx_t = sp.diff(x_t,t)\n",
        "\n",
        "X = sp.Matrix([[x_t.subs(t,0)],[dx_t.subs(t,0)]])\n",
        "resp = sp.solve(X, (C1,C2))\n",
        "\n",
        "x_t = x_t.subs(C1,resp[C1]).subs(C2,resp[C2])\n",
        "dx_t = dx_t.subs(C1,resp[C1]).subs(C2,resp[C2])\n",
        "ddx_t = sp.diff(dx_t,t)\n",
        "\n",
        "F_t = k*(x_t - y) + c*(dx_t - dy_t)\n",
        "t_list = [i/1000 for i in range(1000)]\n",
        "\n",
        "x_t_list = []\n",
        "F_t_list = []\n",
        "\n",
        "for i in t_list :\n",
        "  x_t_list.append(x_t.subs(t,i))\n",
        "  F_t_list.append(F_t.subs(t,i))\n",
        "\n",
        "import matplotlib.pyplot as plt\n",
        "\n",
        "plt.plot(t_list , x_t_list)"
      ],
      "execution_count": null,
      "outputs": [
        {
          "output_type": "execute_result",
          "data": {
            "text/plain": [
              "[<matplotlib.lines.Line2D at 0x7fe7ae80ad10>]"
            ]
          },
          "metadata": {
            "tags": []
          },
          "execution_count": 20
        },
        {
          "output_type": "display_data",
          "data": {
            "image/png": "[encoded data removed]",
            "text/plain": [
              "<Figure size 432x288 with 1 Axes>"
            ]
          },
          "metadata": {
            "tags": [],
            "needs_background": "light"
          }
        }
      ]
    },
    {
      "cell_type": "code",
      "metadata": {
        "id": "xF4NiW9v3vBx",
        "colab": {
          "base_uri": "https://localhost:8080/",
          "height": 293
        },
        "outputId": "2d0c2d44-d1be-49e0-fa95-f7331be4b703"
      },
      "source": [
        "import sympy as sp\n",
        "b = 2\n",
        "w = 100\n",
        "n = 2.3\n",
        "E = 70*10**9\n",
        "sigma_adm = 500*10**6\n",
        "pi = 3.1415\n",
        "\n",
        "y,d1,d2,d3,C1,C2 = sp.symbols(['y','d1','d2','d3','C1','C2'])\n",
        "\n",
        "I = d1*d2**2/12*(1-y) + d1*d3**2/12*y\n",
        "\n",
        "L = n*w\n",
        "L_y = (4*L)/(b*pi)*sp.sqrt(1-(2*y/b)**2)\n",
        "V_y = sp.integrate(L_y,y) + C1\n",
        "M_y = sp.integrate(V_y,y) + C2\n",
        "\n",
        "C1_solve = sp.solve((V_y).subs(y,1),C1)[0]\n",
        "M_1 = M_y.subs(C1,C1_solve).subs(y,1)\n",
        "\n",
        "C2_solve = sp.solve(M_1,C2)[0]\n",
        "C2_solve\n",
        "\n",
        "M_y = M_y.subs(C1,C1_solve).subs(C2,C2_solve)\n",
        "c = (1-y)*d2/2 + y*(d3/2)\n",
        "\n",
        "sigma_y = M_y*c/I\n",
        "\n",
        "dim = [0.002, 0.03 , 0.00001]\n",
        "\n",
        "y_pos = [n/100 for n in range(100)]\n",
        "\n",
        "sigma_y_real = []\n",
        "\n",
        "for i in y_pos:\n",
        "  sigma_y_real.append(sigma_y.subs(y,i).subs(d1,dim[0]).subs(d2,dim[1]).subs(d3,dim[2]))\n",
        "import matplotlib.pyplot as plt\n",
        "\n",
        "plt.plot(y_pos, sigma_y_real)"
      ],
      "execution_count": null,
      "outputs": [
        {
          "output_type": "execute_result",
          "data": {
            "text/plain": [
              "[<matplotlib.lines.Line2D at 0x7f2f6e02ab50>]"
            ]
          },
          "metadata": {
            "tags": []
          },
          "execution_count": 12
        },
        {
          "output_type": "display_data",
          "data": {
            "image/png": "[encoded data removed]",
            "text/plain": [
              "<Figure size 432x288 with 1 Axes>"
            ]
          },
          "metadata": {
            "tags": [],
            "needs_background": "light"
          }
        }
      ]
    },
    {
      "cell_type": "code",
      "metadata": {
        "id": "41t9wsOI20tV"
      },
      "source": [
        ""
      ],
      "execution_count": null,
      "outputs": []
    }
  ]
}