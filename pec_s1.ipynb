{
  "nbformat": 4,
  "nbformat_minor": 0,
  "metadata": {
    "colab": {
      "name": "pec_s1.ipynb",
      "provenance": [],
      "authorship_tag": "ABX9TyMvYHEmNJXOuYdmmttOsXqZ",
      "include_colab_link": true
    },
    "kernelspec": {
      "name": "python3",
      "display_name": "Python 3"
    },
    "language_info": {
      "name": "python"
    }
  },
  "cells": [
    {
      "cell_type": "markdown",
      "metadata": {
        "id": "view-in-github",
        "colab_type": "text"
      },
      "source": [
        "<a href=\"https://colab.research.google.com/github/sidneybraga/Aprendendo-Python/blob/master/pec_s1.ipynb\" target=\"_parent\"><img src=\"https://colab.research.google.com/assets/colab-badge.svg\" alt=\"Open In Colab\"/></a>"
      ]
    },
    {
      "cell_type": "code",
      "metadata": {
        "id": "6xhBKt0BuvFk"
      },
      "source": [
        ""
      ],
      "execution_count": null,
      "outputs": []
    },
    {
      "cell_type": "markdown",
      "metadata": {
        "id": "ayXI4Cdauv6f"
      },
      "source": [
        "## <strong>Phyton Para Engenheiros e Cientistas</strong>\n",
        "###Secão 1\n",
        "\n",
        "**Exercício 1**\n",
        "\n",
        "Crie um condicional que, dada uma variável, faça as operações:\n",
        "\n",
        "\n",
        "*   Se for positivo, retorna \"positivo\"\n",
        "*   Se for negativo, retorna \"negativo\"\n",
        "*   Se for zero, retorna \"zero\"\n",
        "*   Se não for numero retorna \"Não é numero\"\n",
        "\n",
        "\n"
      ]
    },
    {
      "cell_type": "code",
      "metadata": {
        "colab": {
          "base_uri": "https://localhost:8080/"
        },
        "id": "14dE-P1NyNzF",
        "outputId": "c0692e82-35ee-4153-9ef1-84ca17e2e03f"
      },
      "source": [
        "x=-2\n",
        "\n",
        "if type(x) is str :\n",
        "  print(x, \"não é numero\")\n",
        "\n",
        "elif x > 0 :\n",
        "  print(x, \"é positivo\")\n",
        "elif x < 0 :\n",
        "  print(x, \" é negativo\")\n",
        "elif x == 0 :\n",
        "  print(x, \" é zero\")"
      ],
      "execution_count": null,
      "outputs": [
        {
          "output_type": "stream",
          "text": [
            "-2  é negativo\n"
          ],
          "name": "stdout"
        }
      ]
    },
    {
      "cell_type": "markdown",
      "metadata": {
        "id": "uVO2fYj9ze4N"
      },
      "source": [
        "**Resumo**: Aqui foram trabalhados os operadores de comparação(maior que >, menor que <, igual ==) e a construção do condicional if: \\\n",
        "**if** condição : \\\n",
        "**elif** condição : \\\n",
        "**else** :"
      ]
    },
    {
      "cell_type": "markdown",
      "metadata": {
        "id": "eGb04OwT1DAc"
      },
      "source": [
        "**Exercício 2**\n",
        "\n",
        "Faça um loop **for** para criar uma lista que intercale os valores das listas a seguir:\n",
        "\n",
        "\n",
        "*   valores=[1,2,3,4,5]\n",
        "*   letras=['a','b','c','d','e']\n",
        "\n"
      ]
    },
    {
      "cell_type": "code",
      "metadata": {
        "colab": {
          "base_uri": "https://localhost:8080/"
        },
        "id": "a5OPNUi8y4AF",
        "outputId": "63607f47-69cc-483f-aaa6-e3a4026ded50"
      },
      "source": [
        "valores=[1,2,3,4,5]\n",
        "letras=['a','b','c','d','e']\n",
        "lista=[]\n",
        "for i in range(len(valores)) :\n",
        "  lista.append(valores[i])\n",
        "  lista.append(letras[i])\n",
        "lista"
      ],
      "execution_count": null,
      "outputs": [
        {
          "output_type": "execute_result",
          "data": {
            "text/plain": [
              "[1, 'a', 2, 'b', 3, 'c', 4, 'd', 5, 'e']"
            ]
          },
          "metadata": {
            "tags": []
          },
          "execution_count": 13
        }
      ]
    },
    {
      "cell_type": "markdown",
      "metadata": {
        "id": "OlZqttXS7Wne"
      },
      "source": [
        "**Resumo**: Aqui trabalhamos a função **append()**, a qual adiciona elementos a uma lista, a função **len()** a qual retorna o comprimento de uma lista. Além disso, usou-se a função **range()** com a seguinte construção: \\\n",
        "range(stop) -> define um ponto de parada *stop* com inicio em 0 e incremento em 1 por *default*\\\n",
        "range(start, stop[, step]) -> define um inicio e um fim, e um incremento desejado *step*.\n",
        "\n",
        "\n"
      ]
    },
    {
      "cell_type": "markdown",
      "metadata": {
        "id": "jjvyWOCjUjAZ"
      },
      "source": [
        "**Exercicio 3** \\\n",
        "Dado um número inteiro, faça um operador while que calcule o fatorial desse número. \\\n",
        " Dicas: utilize as operações *= e também -=."
      ]
    },
    {
      "cell_type": "code",
      "metadata": {
        "colab": {
          "base_uri": "https://localhost:8080/"
        },
        "id": "aOn1Caf69Kee",
        "outputId": "aae3cd08-978d-41c8-b3b2-83d9a02244e5"
      },
      "source": [
        "x=5\n",
        "fatorial=1\n",
        "while x > 0 :\n",
        "  fatorial*=x\n",
        "  x-=1\n",
        "fatorial"
      ],
      "execution_count": null,
      "outputs": [
        {
          "output_type": "execute_result",
          "data": {
            "text/plain": [
              "120"
            ]
          },
          "metadata": {
            "tags": []
          },
          "execution_count": 15
        }
      ]
    },
    {
      "cell_type": "markdown",
      "metadata": {
        "id": "WMmKiVYbVrYs"
      },
      "source": [
        "**Resumo**: Aqui trabalhamos o loop **while**, utilizamos o operador -= o qual decrementa a variavel por um fator determinado a cada loop, e o operador *= o qual multiplica a variavel por um fator determinado. "
      ]
    },
    {
      "cell_type": "markdown",
      "metadata": {
        "id": "7GbsxKvnk736"
      },
      "source": [
        "**Exercicio 4** \\\n",
        "Dado um numero inteiro, faça um algoritmo que retorne os divisores desse numero. \\\n",
        "Dicas: utilize o operadore %, o qual retorna o resto da divisão por um numero."
      ]
    },
    {
      "cell_type": "code",
      "metadata": {
        "colab": {
          "base_uri": "https://localhost:8080/"
        },
        "id": "7VqxOljj2qJE",
        "outputId": "48cd8343-a746-4b24-9a8c-2b8988eb3344"
      },
      "source": [
        "x=100\n",
        "lista=[]\n",
        "for i in range(1,x+1) :\n",
        "    resto=x%(i)\n",
        "    y=x//(i)\n",
        "    if resto==0 :\n",
        "      lista.append(y)\n",
        "lista"
      ],
      "execution_count": 24,
      "outputs": [
        {
          "output_type": "execute_result",
          "data": {
            "text/plain": [
              "[100, 50, 25, 20, 10, 5, 4, 2, 1]"
            ]
          },
          "metadata": {
            "tags": []
          },
          "execution_count": 24
        }
      ]
    },
    {
      "cell_type": "markdown",
      "metadata": {
        "id": "b7vMauQBZzHa"
      },
      "source": [
        "**Desafio 1** \\\n",
        "Crie uma lista com os primeiros 50 números primos.\\\n",
        "***Minha resolução:***"
      ]
    },
    {
      "cell_type": "code",
      "metadata": {
        "id": "GLJ7OgrEjCiz",
        "colab": {
          "base_uri": "https://localhost:8080/"
        },
        "outputId": "525ab8a8-90f1-4057-e48d-f80810cfc466"
      },
      "source": [
        "x=4\n",
        "lista=[2,3]\n",
        "while len(lista) < 50 : \n",
        "    for i in range (2,x):\n",
        "      resto=x%i\n",
        "      if resto==0 :\n",
        "        x=x+1\n",
        "      elif resto!=0 and (i == x-1) :\n",
        "        lista.append(x)\n",
        "        x=x+1\n",
        "print(lista)"
      ],
      "execution_count": 29,
      "outputs": [
        {
          "output_type": "stream",
          "text": [
            "[2, 3, 5, 7, 11, 13, 17, 19, 23, 29, 31, 37, 41, 43, 47, 53, 59, 61, 67, 71, 73, 79, 83, 89, 97, 101, 103, 107, 109, 113, 127, 131, 137, 139, 149, 151, 157, 163, 167, 173, 179, 181, 191, 193, 197, 199, 211, 223, 227, 229]\n"
          ],
          "name": "stdout"
        }
      ]
    },
    {
      "cell_type": "markdown",
      "metadata": {
        "id": "ieTEqeg4fM5w"
      },
      "source": [
        "**Resumo**\\\n",
        "Nessa resolução, utilizei o operador **(%)**, o qual retorna o resto da divisão entre dois numeros. O loop **for** inicia em 2 e termina em x-1(a sintaxe do comando **range(start,x)** começa no start e vai até o valor x menos uma unidade), assim excluimos a divisão por 1 e pelo próprio numero x, de tal forma que o resto da divisão vai ser zero apenas se existir algum divisor no intervalo que começa em 2 e vai até x-1. Se o resto da divisão for zero, se incrementa o valor de x e recomeça os testes, se não, ele verifica se o loop **for** já atingiu todos os valores até x-1 e caso sim, armazena o numero na lista de primos e faz o incremento em x. Por fim, verifica se o tamanho da lista ja atingiu o comprimento  de 50 elementos."
      ]
    },
    {
      "cell_type": "markdown",
      "metadata": {
        "id": "0UD6EbkAh80T"
      },
      "source": [
        "***Resolução do professor:***"
      ]
    },
    {
      "cell_type": "code",
      "metadata": {
        "colab": {
          "base_uri": "https://localhost:8080/"
        },
        "id": "HVXZbwUcn6oe",
        "outputId": "18e8fa66-253d-47a6-bee7-d5933d8ee2d0"
      },
      "source": [
        "lista1=[2]\n",
        "proximo_elemento=2\n",
        "while len(lista1) < 50 :\n",
        "  proximo_elemento += 1\n",
        "  proximo_elemento_status=\"\"\n",
        "\n",
        "  for elemento in lista1 :\n",
        "    quociente = proximo_elemento / elemento\n",
        "    quociente_inteiro = proximo_elemento // elemento\n",
        "    \n",
        "    if quociente_inteiro == quociente :\n",
        "      proximo_elemento_status = \"pula\" \n",
        "      break\n",
        "  if proximo_elemento_status == \"pula\":\n",
        "    continue\n",
        "  else:\n",
        "    lista1.append(proximo_elemento)\n",
        "print(lista1)"
      ],
      "execution_count": 28,
      "outputs": [
        {
          "output_type": "stream",
          "text": [
            "[2, 3, 5, 7, 11, 13, 17, 19, 23, 29, 31, 37, 41, 43, 47, 53, 59, 61, 67, 71, 73, 79, 83, 89, 97, 101, 103, 107, 109, 113, 127, 131, 137, 139, 149, 151, 157, 163, 167, 173, 179, 181, 191, 193, 197, 199, 211, 223, 227, 229]\n"
          ],
          "name": "stdout"
        }
      ]
    },
    {
      "cell_type": "markdown",
      "metadata": {
        "id": "MAowQSCwkmqv"
      },
      "source": [
        "**Resumo:** \\\n",
        "A resolução feita pelo professor se baseia na propriedade que se um numero é divisivel por um numero primo, então ele não é primo. Assim, o loop **while** incrementa o valor do elemento da lista, e atualiza o status de verificação de divisibilidade desse elemento por uma string vazia. O loop **for** verifica a divisibilidade desse elemento pelos numeros primos que estão na lista. Se houver alguma divisibilidade, ele interrompe o loop **for** com o comando **break** e entra no loop **while**, o qual atualiza o elemento e o status. Uma vez dentro do loop **while**, ele verifica o status e caso não seja \"pula' ele armazena o elemento na lista de numeros primos, repetindo o laço até que o comprimento da lista seja menor que 50. O operador (**//**) retorna a parte inteira da divisão entre 2 numeros."
      ]
    },
    {
      "cell_type": "code",
      "metadata": {
        "id": "yKfeCdrg9cuI"
      },
      "source": [
        ""
      ],
      "execution_count": null,
      "outputs": []
    }
  ]
}