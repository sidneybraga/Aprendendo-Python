{
  "nbformat": 4,
  "nbformat_minor": 0,
  "metadata": {
    "colab": {
      "name": "pec_s1.ipynb",
      "provenance": [],
      "mount_file_id": "1aXeqJjfgDAgMZrkVu-k78QNXLcFplwGz",
      "authorship_tag": "ABX9TyPu7v2sMMXOW2H+bp9zwkYO",
      "include_colab_link": true
    },
    "kernelspec": {
      "name": "python3",
      "display_name": "Python 3"
    },
    "language_info": {
      "name": "python"
    }
  },
  "cells": [
    {
      "cell_type": "markdown",
      "metadata": {
        "id": "view-in-github",
        "colab_type": "text"
      },
      "source": [
        "<a href=\"https://colab.research.google.com/github/sidneybraga/Aprendendo-Python/blob/master/pec_s1.ipynb\" target=\"_parent\"><img src=\"https://colab.research.google.com/assets/colab-badge.svg\" alt=\"Open In Colab\"/></a>"
      ]
    },
    {
      "cell_type": "code",
      "metadata": {
        "id": "6xhBKt0BuvFk"
      },
      "source": [
        ""
      ],
      "execution_count": null,
      "outputs": []
    },
    {
      "cell_type": "markdown",
      "metadata": {
        "id": "ayXI4Cdauv6f"
      },
      "source": [
        "## <strong>Phyton Para Engenheiros e Cientistas</strong>\n",
        "###Secão 1\n",
        "\n",
        "**Exercício 1**\n",
        "\n",
        "Crie um condicional que, dada uma variável, faça as operações:\n",
        "\n",
        "\n",
        "*   Se for positivo, retorna \"positivo\"\n",
        "*   Se for negativo, retorna \"negativo\"\n",
        "*   Se for zero, retorna \"zero\"\n",
        "*   Se não for numero retorna \"Não é numero\"\n",
        "\n",
        "\n"
      ]
    },
    {
      "cell_type": "code",
      "metadata": {
        "colab": {
          "base_uri": "https://localhost:8080/"
        },
        "id": "14dE-P1NyNzF",
        "outputId": "c0692e82-35ee-4153-9ef1-84ca17e2e03f"
      },
      "source": [
        "x=-2\n",
        "\n",
        "if type(x) is str :\n",
        "  print(x, \"não é numero\")\n",
        "\n",
        "elif x > 0 :\n",
        "  print(x, \"é positivo\")\n",
        "elif x < 0 :\n",
        "  print(x, \" é negativo\")\n",
        "elif x == 0 :\n",
        "  print(x, \" é zero\")"
      ],
      "execution_count": null,
      "outputs": [
        {
          "output_type": "stream",
          "text": [
            "-2  é negativo\n"
          ],
          "name": "stdout"
        }
      ]
    },
    {
      "cell_type": "markdown",
      "metadata": {
        "id": "uVO2fYj9ze4N"
      },
      "source": [
        "**Resumo**: Aqui foram trabalhados os operadores de comparação(maior que >, menor que <, igual ==) e a construção do condicional if: \\\n",
        "**if** condição : \\\n",
        "**elif** condição : \\\n",
        "**else** :"
      ]
    },
    {
      "cell_type": "markdown",
      "metadata": {
        "id": "eGb04OwT1DAc"
      },
      "source": [
        "**Exercício 2**\n",
        "\n",
        "Faça um loop **for** para criar uma lista que intercale os valores das listas a seguir:\n",
        "\n",
        "\n",
        "*   valores=[1,2,3,4,5]\n",
        "*   letras=['a','b','c','d','e']\n",
        "\n"
      ]
    },
    {
      "cell_type": "code",
      "metadata": {
        "colab": {
          "base_uri": "https://localhost:8080/"
        },
        "id": "a5OPNUi8y4AF",
        "outputId": "63607f47-69cc-483f-aaa6-e3a4026ded50"
      },
      "source": [
        "valores=[1,2,3,4,5]\n",
        "letras=['a','b','c','d','e']\n",
        "lista=[]\n",
        "for i in range(len(valores)) :\n",
        "  lista.append(valores[i])\n",
        "  lista.append(letras[i])\n",
        "lista"
      ],
      "execution_count": null,
      "outputs": [
        {
          "output_type": "execute_result",
          "data": {
            "text/plain": [
              "[1, 'a', 2, 'b', 3, 'c', 4, 'd', 5, 'e']"
            ]
          },
          "metadata": {
            "tags": []
          },
          "execution_count": 13
        }
      ]
    },
    {
      "cell_type": "markdown",
      "metadata": {
        "id": "OlZqttXS7Wne"
      },
      "source": [
        "**Resumo**: Aqui trabalhamos a função **append()**, a qual adiciona elementos a uma lista, a função **len()** a qual retorna o comprimento de uma lista. Além disso, usou-se a função **range()** com a seguinte construção: \\\n",
        "range(stop) -> define um ponto de parada *stop* com inicio em 0 e incremento em 1 por *default*\\\n",
        "range(start, stop[, step]) -> define um inicio e um fim, e um incremento desejado *step*.\n",
        "\n",
        "\n"
      ]
    },
    {
      "cell_type": "markdown",
      "metadata": {
        "id": "jjvyWOCjUjAZ"
      },
      "source": [
        "**Exercicio 3** \\\n",
        "Dado um número inteiro, faça um operador while que calcule o fatorial desse número. \\\n",
        " Dicas: utilize as operações *= e também -=."
      ]
    },
    {
      "cell_type": "code",
      "metadata": {
        "colab": {
          "base_uri": "https://localhost:8080/"
        },
        "id": "aOn1Caf69Kee",
        "outputId": "aae3cd08-978d-41c8-b3b2-83d9a02244e5"
      },
      "source": [
        "x=5\n",
        "fatorial=1\n",
        "while x > 0 :\n",
        "  fatorial*=x\n",
        "  x-=1\n",
        "fatorial"
      ],
      "execution_count": null,
      "outputs": [
        {
          "output_type": "execute_result",
          "data": {
            "text/plain": [
              "120"
            ]
          },
          "metadata": {
            "tags": []
          },
          "execution_count": 15
        }
      ]
    },
    {
      "cell_type": "markdown",
      "metadata": {
        "id": "WMmKiVYbVrYs"
      },
      "source": [
        "**Resumo**: Aqui trabalhamos o loop **while**, utilizamos o operador -= o qual decrementa a variavel por um fator determinado a cada loop, e o operador *= o qual multiplica a variavel por um fator determinado. "
      ]
    },
    {
      "cell_type": "markdown",
      "metadata": {
        "id": "7GbsxKvnk736"
      },
      "source": [
        "**Exercicio 4** \\\n",
        "Dado um numero inteiro, faça um algoritmo que retorne os divisores desse numero. \\\n",
        "Dicas: utilize o operadore %, o qual retorna o resto da divisão por um numero."
      ]
    },
    {
      "cell_type": "code",
      "metadata": {
        "colab": {
          "base_uri": "https://localhost:8080/"
        },
        "id": "7VqxOljj2qJE",
        "outputId": "48cd8343-a746-4b24-9a8c-2b8988eb3344"
      },
      "source": [
        "x=100\n",
        "lista=[]\n",
        "for i in range(1,x+1) :\n",
        "    resto=x%(i)\n",
        "    y=x//(i)\n",
        "    if resto==0 :\n",
        "      lista.append(y)\n",
        "lista"
      ],
      "execution_count": null,
      "outputs": [
        {
          "output_type": "execute_result",
          "data": {
            "text/plain": [
              "[100, 50, 25, 20, 10, 5, 4, 2, 1]"
            ]
          },
          "metadata": {
            "tags": []
          },
          "execution_count": 24
        }
      ]
    },
    {
      "cell_type": "markdown",
      "metadata": {
        "id": "b7vMauQBZzHa"
      },
      "source": [
        "**Desafio 1** \\\n",
        "Crie uma lista com os primeiros 50 números primos.\\\n",
        "***Minha resolução:***"
      ]
    },
    {
      "cell_type": "code",
      "metadata": {
        "id": "GLJ7OgrEjCiz",
        "colab": {
          "base_uri": "https://localhost:8080/"
        },
        "outputId": "37fe4f9b-39da-49ff-84b0-3df1c11d46c3"
      },
      "source": [
        "x=3\n",
        "lista=[2]\n",
        "while len(lista) < 50 : \n",
        "    for i in range (2,x):\n",
        "      resto=x%i\n",
        "      if resto==0 :\n",
        "        x=x+1\n",
        "      elif resto!=0 and (i == x-1) :\n",
        "        lista.append(x)\n",
        "        x=x+1\n",
        "print(lista)"
      ],
      "execution_count": null,
      "outputs": [
        {
          "output_type": "stream",
          "text": [
            "[2, 3, 5, 7, 11, 13, 17, 19, 23, 29, 31, 37, 41, 43, 47, 53, 59, 61, 67, 71, 73, 79, 83, 89, 97, 101, 103, 107, 109, 113, 127, 131, 137, 139, 149, 151, 157, 163, 167, 173, 179, 181, 191, 193, 197, 199, 211, 223, 227, 229]\n"
          ],
          "name": "stdout"
        }
      ]
    },
    {
      "cell_type": "markdown",
      "metadata": {
        "id": "ieTEqeg4fM5w"
      },
      "source": [
        "**Resumo**\\\n",
        "Nessa resolução, utilizei o operador **(%)**, o qual retorna o resto da divisão entre dois numeros. O loop **for** inicia em 2 e termina em x-1(a sintaxe do comando **range(start,x)** começa no start e vai até o valor x menos uma unidade), assim excluimos a divisão por 1 e pelo próprio numero x, de tal forma que o resto da divisão vai ser zero apenas se existir algum divisor no intervalo que começa em 2 e vai até x-1. Se o resto da divisão for zero, se incrementa o valor de x e recomeça os testes, se não, ele verifica se o loop **for** já atingiu todos os valores até x-1 e caso sim, armazena o numero na lista de primos e faz o incremento em x. Por fim, verifica se o tamanho da lista ja atingiu o comprimento  de 50 elementos."
      ]
    },
    {
      "cell_type": "markdown",
      "metadata": {
        "id": "0UD6EbkAh80T"
      },
      "source": [
        "***Resolução do professor:***"
      ]
    },
    {
      "cell_type": "code",
      "metadata": {
        "colab": {
          "base_uri": "https://localhost:8080/"
        },
        "id": "HVXZbwUcn6oe",
        "outputId": "18e8fa66-253d-47a6-bee7-d5933d8ee2d0"
      },
      "source": [
        "lista1=[2]\n",
        "proximo_elemento=2\n",
        "while len(lista1) < 50 :\n",
        "  proximo_elemento += 1\n",
        "  proximo_elemento_status=\"\"\n",
        "\n",
        "  for elemento in lista1 :\n",
        "    quociente = proximo_elemento / elemento\n",
        "    quociente_inteiro = proximo_elemento // elemento\n",
        "    \n",
        "    if quociente_inteiro == quociente :\n",
        "      proximo_elemento_status = \"pula\" \n",
        "      break\n",
        "  if proximo_elemento_status == \"pula\":\n",
        "    continue\n",
        "  else:\n",
        "    lista1.append(proximo_elemento)\n",
        "print(lista1)"
      ],
      "execution_count": null,
      "outputs": [
        {
          "output_type": "stream",
          "text": [
            "[2, 3, 5, 7, 11, 13, 17, 19, 23, 29, 31, 37, 41, 43, 47, 53, 59, 61, 67, 71, 73, 79, 83, 89, 97, 101, 103, 107, 109, 113, 127, 131, 137, 139, 149, 151, 157, 163, 167, 173, 179, 181, 191, 193, 197, 199, 211, 223, 227, 229]\n"
          ],
          "name": "stdout"
        }
      ]
    },
    {
      "cell_type": "markdown",
      "metadata": {
        "id": "MAowQSCwkmqv"
      },
      "source": [
        "**Resumo:** \\\n",
        "A resolução feita pelo professor se baseia na propriedade que se um numero é divisivel por um numero primo, então ele não é primo. Assim, o loop **while** incrementa o valor do elemento da lista, e atualiza o status de verificação de divisibilidade desse elemento por uma string vazia. O loop **for** verifica a divisibilidade desse elemento pelos numeros primos que estão na lista. Se houver alguma divisibilidade, ele interrompe o loop **for** com o comando **break** e entra no loop **while**, o qual atualiza o elemento e o status. Uma vez dentro do loop **while**, ele verifica o status e caso não seja \"pula' ele armazena o elemento na lista de numeros primos, repetindo o laço até que o comprimento da lista seja menor que 50. O operador (**//**) retorna a parte inteira da divisão entre 2 numeros."
      ]
    },
    {
      "cell_type": "markdown",
      "metadata": {
        "id": "fKb8d-fJ94DD"
      },
      "source": [
        "**Desafio 2 :** \\\\\n",
        "Imprimir todos os anagramas da palavra **ARARA**, sem repetição. \\\\\n",
        "Trata-se de um problema de permutação com repetição de elementos, sendo assim, as soluçoes sem repetição são dadas pela seguinte equação:\n",
        "\n",
        "$ P_5^{2,3} = \\frac {5!} {2!3!} $\n",
        "\n",
        "[Encontrar todas as permutações possíveis de uma determinada string em python.](https://qastack.com.br/programming/8306654/finding-all-possible-permutations-of-a-given-string-in-python) \\\\\n",
        "Nesse link possui algumas soluções interessantes para os problemas de permutações. \\\\\n",
        "\n",
        "[Análise Combinatória - Exercícios de Permutação com Repetição - Aula 10](https://www.youtube.com/watch?v=DhHMx0QwNkU) Video youtube de permutação com repetição. \\\\\n",
        "\n",
        "[Algoritmos de Enumeração](https://www.ime.usp.br/~mms/mac1222s2019/14%20-%20PDA%20-%20Python%20-%20algoritmos%20de%20enumeracao.pdf) Livro sobre permutações.\n",
        "\n",
        "\n",
        "\n",
        "\n"
      ]
    },
    {
      "cell_type": "code",
      "metadata": {
        "id": "yKfeCdrg9cuI",
        "colab": {
          "base_uri": "https://localhost:8080/"
        },
        "outputId": "f8d927df-bfee-48fc-ef66-1326dbab17f1"
      },
      "source": [
        "def lexico_permute_string(s):\n",
        "    ''' Generate all permutations in lexicographic order of string `s`\n",
        "\n",
        "        This algorithm, due to Narayana Pandita, is from\n",
        "        https://en.wikipedia.org/wiki/Permutation#Generation_in_lexicographic_order\n",
        "\n",
        "        To produce the next permutation in lexicographic order of sequence `a`\n",
        "\n",
        "        1. Find the largest index j such that a[j] < a[j + 1]. If no such index exists, \n",
        "        the permutation is the last permutation.\n",
        "        2. Find the largest index k greater than j such that a[j] < a[k].\n",
        "        3. Swap the value of a[j] with that of a[k].\n",
        "        4. Reverse the sequence from a[j + 1] up to and including the final element a[n].\n",
        "    '''\n",
        "\n",
        "    a = sorted(s)\n",
        "    n = len(a) - 1\n",
        "    while True:\n",
        "        yield ''.join(a)\n",
        "\n",
        "        #1. Find the largest index j such that a[j] < a[j + 1]\n",
        "        for j in range(n-1, -1, -1):\n",
        "            if a[j] < a[j + 1]:\n",
        "                break\n",
        "        else:\n",
        "            return\n",
        "\n",
        "        #2. Find the largest index k greater than j such that a[j] < a[k]\n",
        "        v = a[j]\n",
        "        for k in range(n, j, -1):\n",
        "            if v < a[k]:\n",
        "                break\n",
        "\n",
        "        #3. Swap the value of a[j] with that of a[k].\n",
        "        a[j], a[k] = a[k], a[j]\n",
        "\n",
        "        #4. Reverse the tail of the sequence\n",
        "        a[j+1:] = a[j+1:][::-1]\n",
        "\n",
        "for s in lexico_permute_string('ARARA'):\n",
        "    print(s)"
      ],
      "execution_count": null,
      "outputs": [
        {
          "output_type": "stream",
          "text": [
            "AAARR\n",
            "AARAR\n",
            "AARRA\n",
            "ARAAR\n",
            "ARARA\n",
            "ARRAA\n",
            "RAAAR\n",
            "RAARA\n",
            "RARAA\n",
            "RRAAA\n"
          ],
          "name": "stdout"
        }
      ]
    },
    {
      "cell_type": "code",
      "metadata": {
        "id": "nq5R-ekgfN4p"
      },
      "source": [
        "from google.colab import drive\n",
        "drive.mount('/content/drive')"
      ],
      "execution_count": null,
      "outputs": []
    },
    {
      "cell_type": "code",
      "metadata": {
        "id": "ZD1UP9Ya5eHs"
      },
      "source": [
        ""
      ],
      "execution_count": null,
      "outputs": []
    },
    {
      "cell_type": "markdown",
      "metadata": {
        "id": "ZzkduK3zg2w5"
      },
      "source": [
        "**Exercicio 5** \\\\\n",
        "Dada a lista ['P','A','Y','A','T','A','H','O','N'], conte o número de variáveis 'A' e utilize um loop para remover todos os 'A' excedente. \\\\\n",
        "Video sobre palindromos.\n",
        "[Algoritmo e Questão de Entrevista. Palíndromo em Permutação.](https://www.youtube.com/watch?v=FvdCwPQbbF8)"
      ]
    },
    {
      "cell_type": "code",
      "metadata": {
        "id": "Jl-iGqlfCWGO",
        "colab": {
          "base_uri": "https://localhost:8080/"
        },
        "outputId": "04353ef6-0083-4c5c-b147-50dd7b552747"
      },
      "source": [
        "lista = ['P','A','Y','A','T','A','H','O','N']\n",
        "numero_A = lista.count('A')\n",
        "for i in enumerate(lista) :\n",
        "  letra = i[1]\n",
        "  if letra == 'A' :\n",
        "    lista.pop(i[0])  \n",
        "print(numero_A)\n",
        "lista"
      ],
      "execution_count": null,
      "outputs": [
        {
          "output_type": "stream",
          "text": [
            "3\n"
          ],
          "name": "stdout"
        },
        {
          "output_type": "execute_result",
          "data": {
            "text/plain": [
              "['P', 'Y', 'T', 'H', 'O', 'N']"
            ]
          },
          "metadata": {
            "tags": []
          },
          "execution_count": 18
        }
      ]
    },
    {
      "cell_type": "markdown",
      "metadata": {
        "id": "A98iI7AtwWxN"
      },
      "source": [
        "**Resumo**: \\\\\n",
        "Nessa solução utilizou o metodo ***.count()*** para listas, o qual retorna o numero de vezes que o parametro passado existe dentro da lista. Utilizou-se também a função ***enumerate***, a qual retorna uma tupla com a indexação e o respectivo valor ( index , 'X'). O loop ***for*** percorre os elementos da lista e atribui a variavel letra cada elemento presente na tupla. O comando ***if*** verifica se existe a letra 'A', e o metodo*** pop()*** remove a letra 'A' da lista."
      ]
    },
    {
      "cell_type": "markdown",
      "metadata": {
        "id": "7KbT22poy0gK"
      },
      "source": [
        "**Exercicio 6** \\\\\n",
        "Utilizando somente uma linha de programação, crie uma lista que contenha os números ímpares de 1 a 51."
      ]
    },
    {
      "cell_type": "code",
      "metadata": {
        "colab": {
          "base_uri": "https://localhost:8080/"
        },
        "id": "n9ZttMAAhxtM",
        "outputId": "14af4b3d-3916-4c18-8135-9287f3e1c768"
      },
      "source": [
        "impares = [x for x in range(1,52,2)]\n",
        "print(impares)"
      ],
      "execution_count": null,
      "outputs": [
        {
          "output_type": "stream",
          "text": [
            "[1, 3, 5, 7, 9, 11, 13, 15, 17, 19, 21, 23, 25, 27, 29, 31, 33, 35, 37, 39, 41, 43, 45, 47, 49, 51]\n"
          ],
          "name": "stdout"
        }
      ]
    },
    {
      "cell_type": "code",
      "metadata": {
        "colab": {
          "base_uri": "https://localhost:8080/"
        },
        "id": "O9-4f5tKyvz6",
        "outputId": "d00defca-3368-4e8a-f32b-88ea063cd19e"
      },
      "source": [
        "f_x = lambda x: (2*x + 1)\n",
        "imp = [f_x(x) for x in range(26)]\n",
        "print(imp)"
      ],
      "execution_count": null,
      "outputs": [
        {
          "output_type": "stream",
          "text": [
            "[1, 3, 5, 7, 9, 11, 13, 15, 17, 19, 21, 23, 25, 27, 29, 31, 33, 35, 37, 39, 41, 43, 45, 47, 49, 51]\n"
          ],
          "name": "stdout"
        }
      ]
    },
    {
      "cell_type": "code",
      "metadata": {
        "id": "8abH0OyI1Hqe"
      },
      "source": [
        ""
      ],
      "execution_count": null,
      "outputs": []
    },
    {
      "cell_type": "code",
      "metadata": {
        "id": "ufWkloCrzQWa"
      },
      "source": [
        "\n"
      ],
      "execution_count": null,
      "outputs": []
    },
    {
      "cell_type": "markdown",
      "metadata": {
        "id": "HA-wkp1Enr6v"
      },
      "source": [
        "**Exercicio 7** \\\\\n",
        "Crie um dicionário que correlacione as seguintes listas:\n",
        "\n",
        "\n",
        "*   valores = [1,2,3,4,5]\n",
        "*   keys = ['a','b','c','d','e']\n",
        "\n",
        "Utilize um loop.\n",
        "\n"
      ]
    },
    {
      "cell_type": "code",
      "metadata": {
        "colab": {
          "base_uri": "https://localhost:8080/"
        },
        "id": "ifnP-E5ezmUm",
        "outputId": "4999b3bc-c7c1-41c5-ab63-7a52d81dfc09"
      },
      "source": [
        "valores = [1,2,3,4,5]\n",
        "keys = ['a','b','c','d','e']\n",
        "lista = []\n",
        "for i in range(5) :\n",
        "  tup=(keys[i],valores[i])\n",
        "  lista.append(tup)\n",
        "dic_t=dict(lista)\n",
        "dic_t"
      ],
      "execution_count": null,
      "outputs": [
        {
          "output_type": "execute_result",
          "data": {
            "text/plain": [
              "{'a': 1, 'b': 2, 'c': 3, 'd': 4, 'e': 5}"
            ]
          },
          "metadata": {
            "tags": []
          },
          "execution_count": 12
        }
      ]
    },
    {
      "cell_type": "markdown",
      "metadata": {
        "id": "CJJ8-5Uy4ezA"
      },
      "source": [
        "**Resumo :** \\\\\n",
        "Primeiro foram criados as duas listas com valores e chaves. Depois criou-se uma lista vazia. O *loop* **for** cria uma variavel tup do tipo tupla, que relaciona as chaves e os valores, que por sua vez são adicionados a uma lista vazia a cada iteração. Por fim transforma-se a lista de tuplas em um dicionário."
      ]
    },
    {
      "cell_type": "code",
      "metadata": {
        "colab": {
          "base_uri": "https://localhost:8080/"
        },
        "id": "QyLld9xa0uNp",
        "outputId": "2adcfcbd-4894-43aa-be7a-0d0b45c9f362"
      },
      "source": [
        "valores = [1,2,3,4,5]\n",
        "keys = ['a','b','c','d','e']\n",
        "dic_1 = {}\n",
        "for i in range(5):\n",
        "  dic_1[keys[i]] = valores[i]\n",
        "dic_1"
      ],
      "execution_count": null,
      "outputs": [
        {
          "output_type": "execute_result",
          "data": {
            "text/plain": [
              "{'a': 1, 'b': 2, 'c': 3, 'd': 4, 'e': 5}"
            ]
          },
          "metadata": {
            "tags": []
          },
          "execution_count": 13
        }
      ]
    },
    {
      "cell_type": "markdown",
      "metadata": {
        "id": "1V_8b_T46zjx"
      },
      "source": [
        "A solução do professor é mais simples, e utiliza a sintaxe de dicionários ***dic_t[chave] = valor***, onde a indexação é a chave do dicionário e o valor é o valor correspondente a chave."
      ]
    },
    {
      "cell_type": "markdown",
      "metadata": {
        "id": "aZQycePw7n1Y"
      },
      "source": [
        "**Exercicio 8**  \\\\\n",
        "A partir do dicionário criado no exercício anterior, recrie as listas keys e valores."
      ]
    },
    {
      "cell_type": "code",
      "metadata": {
        "colab": {
          "base_uri": "https://localhost:8080/"
        },
        "id": "KWrRKN-o6ute",
        "outputId": "d0804f6c-2f1b-4baa-813f-1631d722e41d"
      },
      "source": [
        "listachaves=list(dic_1.keys())\n",
        "listavalores=list(dic_1.values())\n",
        "print(listachaves)\n",
        "print(listavalores)"
      ],
      "execution_count": null,
      "outputs": [
        {
          "output_type": "stream",
          "text": [
            "['a', 'b', 'c', 'd', 'e']\n",
            "[1, 2, 3, 4, 5]\n"
          ],
          "name": "stdout"
        }
      ]
    },
    {
      "cell_type": "markdown",
      "metadata": {
        "id": "eFhmmYZP8lAI"
      },
      "source": [
        "**Resumo :** \\\\\n",
        " A função ***list*** cria uma lista. O método ***.keys()*** é um metodo para dicionários que retorna as chaves do dicionario, e o método ***.values()*** é um metodo para dicionários que retorna os valores do dicionário."
      ]
    },
    {
      "cell_type": "markdown",
      "metadata": {
        "id": "0GARj9cruPqD"
      },
      "source": [
        "***Desafio 3 :*** \\\\\n",
        "Dada a equação da cirunferência, faça o gráfico. \\\\\n",
        "\n",
        " $(x-a)^2 + (y-b)^2 =  r^2, \\ r=100, \\ a=100, \\ b=100 $ \\\\\n",
        "\n",
        "***Minha Solução:***"
      ]
    },
    {
      "cell_type": "code",
      "metadata": {
        "colab": {
          "base_uri": "https://localhost:8080/",
          "height": 282
        },
        "id": "pEz-Cpin8hej",
        "outputId": "b91958bd-20c3-43ad-92e3-4e9ae47d9fe2"
      },
      "source": [
        "import matplotlib.pyplot as plt\n",
        "x = [ x for x in range(201)]\n",
        "y1 = [ ((10000 - (y-100)**2)**(1/2) + 100) for y in x ]\n",
        "y2 = [ (-(10000 - (y-100)**2)**(1/2) + 100) for y in x ]\n",
        "plt.plot(x,y1)\n",
        "plt.plot(x,y2)\n"
      ],
      "execution_count": null,
      "outputs": [
        {
          "output_type": "execute_result",
          "data": {
            "text/plain": [
              "[<matplotlib.lines.Line2D at 0x7ff0ffa8cfd0>]"
            ]
          },
          "metadata": {
            "tags": []
          },
          "execution_count": 3
        },
        {
          "output_type": "display_data",
          "data": {
            "image/png": "[encoded data removed]",
            "text/plain": [
              "<Figure size 432x288 with 1 Axes>"
            ]
          },
          "metadata": {
            "tags": [],
            "needs_background": "light"
          }
        }
      ]
    },
    {
      "cell_type": "markdown",
      "metadata": {
        "id": "i6qzTUfPvmw6"
      },
      "source": [
        "***Solução do professor:*** \\\\"
      ]
    },
    {
      "cell_type": "code",
      "metadata": {
        "colab": {
          "base_uri": "https://localhost:8080/",
          "height": 282
        },
        "id": "zIHcsq4nCSPM",
        "outputId": "7214f932-2df4-4212-e63c-df99c044b1ef"
      },
      "source": [
        "from math import sqrt\n",
        "a,b,r= 100,100,100\n",
        "x1= []\n",
        "y1= []\n",
        "x1= [i for i in range(2*r+1)]\n",
        "y1_x = lambda x: sqrt(r**2 - (x-a)**2) + b\n",
        "y1_x_menos = lambda x: -sqrt(r**2 - (x-a)**2) + b\n",
        "y1.extend(list(map(y1_x,x1)))\n",
        "y1.extend(list(map(y1_x_menos,x1)))\n",
        "x1.extend(x1)\n",
        "import matplotlib.pyplot as plt\n",
        "plt.plot(x1,y1)"
      ],
      "execution_count": null,
      "outputs": [
        {
          "output_type": "execute_result",
          "data": {
            "text/plain": [
              "[<matplotlib.lines.Line2D at 0x7ff0fb8ac990>]"
            ]
          },
          "metadata": {
            "tags": []
          },
          "execution_count": 5
        },
        {
          "output_type": "display_data",
          "data": {
            "image/png": "[encoded data removed]",
            "text/plain": [
              "<Figure size 432x288 with 1 Axes>"
            ]
          },
          "metadata": {
            "tags": [],
            "needs_background": "light"
          }
        }
      ]
    },
    {
      "cell_type": "markdown",
      "metadata": {
        "id": "LXqR1X6hnozm"
      },
      "source": [
        "**Desafio 4 :** \\\\\n",
        "Importe a tabela dos 100 maiores municípios em relação ao PIB e responda as seguintes perguntas:\n",
        "\n",
        "\n",
        "*   Quantos municipios estão no estado de São Paulo?\n",
        "*   Qual a participação acumulada desses municipios?\n",
        "\n",
        "***Solução usando DataFrames da biblioteca pandas:***"
      ]
    },
    {
      "cell_type": "code",
      "metadata": {
        "id": "7aG5_pAItdGe"
      },
      "source": [
        "import pandas as pd"
      ],
      "execution_count": null,
      "outputs": []
    },
    {
      "cell_type": "code",
      "metadata": {
        "id": "4RE2jJUZ9HYG"
      },
      "source": [
        "import io"
      ],
      "execution_count": null,
      "outputs": []
    },
    {
      "cell_type": "code",
      "metadata": {
        "id": "Bdqj-_SG_VRC"
      },
      "source": [
        "import requests"
      ],
      "execution_count": null,
      "outputs": []
    },
    {
      "cell_type": "code",
      "metadata": {
        "id": "DvlN-LfcEaAC"
      },
      "source": [
        "url = \"https://raw.githubusercontent.com/rafaelpsilva07/Python-para-Engenheiros-e-Cientistas/main/Notebooks/arquivos_auxiliares/PIB_100_maiores_cidades_2017.txt\""
      ],
      "execution_count": null,
      "outputs": []
    },
    {
      "cell_type": "code",
      "metadata": {
        "id": "5chp5BvOFFoQ"
      },
      "source": [
        "s = requests.get(url).content\n",
        "df = pd.read_csv(io.StringIO(s.decode('latin1')))"
      ],
      "execution_count": null,
      "outputs": []
    },
    {
      "cell_type": "code",
      "metadata": {
        "colab": {
          "base_uri": "https://localhost:8080/",
          "height": 402
        },
        "id": "yLGvxWGCGUYv",
        "outputId": "7757483f-93da-4888-fdc4-c4596839466d"
      },
      "source": [
        "df"
      ],
      "execution_count": null,
      "outputs": [
        {
          "output_type": "execute_result",
          "data": {
            "text/html": [
              "<div>\n",
              "<style scoped>\n",
              "    .dataframe tbody tr th:only-of-type {\n",
              "        vertical-align: middle;\n",
              "    }\n",
              "\n",
              "    .dataframe tbody tr th {\n",
              "        vertical-align: top;\n",
              "    }\n",
              "\n",
              "    .dataframe thead th {\n",
              "        text-align: right;\n",
              "    }\n",
              "</style>\n",
              "<table border=\"1\" class=\"dataframe\">\n",
              "  <thead>\n",
              "    <tr style=\"text-align: right;\">\n",
              "      <th></th>\n",
              "      <th>Municípios</th>\n",
              "      <th>Estado</th>\n",
              "      <th>Posição</th>\n",
              "      <th>PIB (1 000 R$)</th>\n",
              "      <th>Participação (%)</th>\n",
              "      <th>Participação acumulada (%)</th>\n",
              "    </tr>\n",
              "  </thead>\n",
              "  <tbody>\n",
              "    <tr>\n",
              "      <th>0</th>\n",
              "      <td>São Paulo</td>\n",
              "      <td>SP</td>\n",
              "      <td>1º</td>\n",
              "      <td>6.992884e+08</td>\n",
              "      <td>10.622125</td>\n",
              "      <td>10.622125</td>\n",
              "    </tr>\n",
              "    <tr>\n",
              "      <th>1</th>\n",
              "      <td>Rio de Janeiro</td>\n",
              "      <td>RJ</td>\n",
              "      <td>2º</td>\n",
              "      <td>3.375945e+08</td>\n",
              "      <td>5.128028</td>\n",
              "      <td>15.750153</td>\n",
              "    </tr>\n",
              "    <tr>\n",
              "      <th>2</th>\n",
              "      <td>Brasília</td>\n",
              "      <td>DF</td>\n",
              "      <td>3º</td>\n",
              "      <td>2.446828e+08</td>\n",
              "      <td>3.716708</td>\n",
              "      <td>19.466861</td>\n",
              "    </tr>\n",
              "    <tr>\n",
              "      <th>3</th>\n",
              "      <td>Belo Horizonte</td>\n",
              "      <td>MG</td>\n",
              "      <td>4º</td>\n",
              "      <td>8.895117e+07</td>\n",
              "      <td>1.351160</td>\n",
              "      <td>20.818021</td>\n",
              "    </tr>\n",
              "    <tr>\n",
              "      <th>4</th>\n",
              "      <td>Curitiba</td>\n",
              "      <td>PR</td>\n",
              "      <td>5º</td>\n",
              "      <td>8.470236e+07</td>\n",
              "      <td>1.286621</td>\n",
              "      <td>22.104642</td>\n",
              "    </tr>\n",
              "    <tr>\n",
              "      <th>...</th>\n",
              "      <td>...</td>\n",
              "      <td>...</td>\n",
              "      <td>...</td>\n",
              "      <td>...</td>\n",
              "      <td>...</td>\n",
              "      <td>...</td>\n",
              "    </tr>\n",
              "    <tr>\n",
              "      <th>95</th>\n",
              "      <td>Três Lagoas</td>\n",
              "      <td>MS</td>\n",
              "      <td>96º</td>\n",
              "      <td>1.013170e+07</td>\n",
              "      <td>0.153900</td>\n",
              "      <td>54.717041</td>\n",
              "    </tr>\n",
              "    <tr>\n",
              "      <th>96</th>\n",
              "      <td>São José</td>\n",
              "      <td>SC</td>\n",
              "      <td>97º</td>\n",
              "      <td>1.013101e+07</td>\n",
              "      <td>0.153889</td>\n",
              "      <td>54.870930</td>\n",
              "    </tr>\n",
              "    <tr>\n",
              "      <th>97</th>\n",
              "      <td>Angra dos Reis</td>\n",
              "      <td>RJ</td>\n",
              "      <td>98º</td>\n",
              "      <td>1.009937e+07</td>\n",
              "      <td>0.153408</td>\n",
              "      <td>55.024338</td>\n",
              "    </tr>\n",
              "    <tr>\n",
              "      <th>98</th>\n",
              "      <td>Macapá</td>\n",
              "      <td>AP</td>\n",
              "      <td>99º</td>\n",
              "      <td>9.994877e+06</td>\n",
              "      <td>0.151821</td>\n",
              "      <td>55.176159</td>\n",
              "    </tr>\n",
              "    <tr>\n",
              "      <th>99</th>\n",
              "      <td>Cabo de Santo Agostinho</td>\n",
              "      <td>PE</td>\n",
              "      <td>100º</td>\n",
              "      <td>9.964401e+06</td>\n",
              "      <td>0.151358</td>\n",
              "      <td>55.327518</td>\n",
              "    </tr>\n",
              "  </tbody>\n",
              "</table>\n",
              "<p>100 rows × 6 columns</p>\n",
              "</div>"
            ],
            "text/plain": [
              "                  Municípios  ... Participação acumulada (%)\n",
              "0                 São Paulo   ...                  10.622125\n",
              "1            Rio de Janeiro   ...                  15.750153\n",
              "2                  Brasília   ...                  19.466861\n",
              "3            Belo Horizonte   ...                  20.818021\n",
              "4                  Curitiba   ...                  22.104642\n",
              "..                       ...  ...                        ...\n",
              "95              Três Lagoas   ...                  54.717041\n",
              "96                 São José   ...                  54.870930\n",
              "97           Angra dos Reis   ...                  55.024338\n",
              "98                   Macapá   ...                  55.176159\n",
              "99  Cabo de Santo Agostinho   ...                  55.327518\n",
              "\n",
              "[100 rows x 6 columns]"
            ]
          },
          "metadata": {
            "tags": []
          },
          "execution_count": 44
        }
      ]
    },
    {
      "cell_type": "code",
      "metadata": {
        "colab": {
          "base_uri": "https://localhost:8080/"
        },
        "id": "zgS_FdAvIz0P",
        "outputId": "0d35090a-4125-43e8-e53d-ec6101b6bac7"
      },
      "source": [
        "df.shape"
      ],
      "execution_count": null,
      "outputs": [
        {
          "output_type": "execute_result",
          "data": {
            "text/plain": [
              "(100, 6)"
            ]
          },
          "metadata": {
            "tags": []
          },
          "execution_count": 45
        }
      ]
    },
    {
      "cell_type": "code",
      "metadata": {
        "colab": {
          "base_uri": "https://localhost:8080/"
        },
        "id": "_aIfeQPaLQoF",
        "outputId": "877ec5dd-3706-48a5-dad3-3fdc7b4508a9"
      },
      "source": [
        "df.columns"
      ],
      "execution_count": null,
      "outputs": [
        {
          "output_type": "execute_result",
          "data": {
            "text/plain": [
              "Index(['Municípios', 'Estado', 'Posição', 'PIB (1 000 R$)', 'Participação (%)',\n",
              "       'Participação acumulada (%)'],\n",
              "      dtype='object')"
            ]
          },
          "metadata": {
            "tags": []
          },
          "execution_count": 46
        }
      ]
    },
    {
      "cell_type": "code",
      "metadata": {
        "colab": {
          "base_uri": "https://localhost:8080/"
        },
        "id": "oc6Zmw_JL2J_",
        "outputId": "f41ed63a-fe2f-4c0e-98b2-5f925fab93c0"
      },
      "source": [
        "df['Participação (%)'].sum()"
      ],
      "execution_count": null,
      "outputs": [
        {
          "output_type": "execute_result",
          "data": {
            "text/plain": [
              "55.327517733369454"
            ]
          },
          "metadata": {
            "tags": []
          },
          "execution_count": 47
        }
      ]
    },
    {
      "cell_type": "code",
      "metadata": {
        "colab": {
          "base_uri": "https://localhost:8080/"
        },
        "id": "005rfiIhoea_",
        "outputId": "f427fadf-f202-48bd-c69d-e6aea1c535e2"
      },
      "source": [
        "(df['Estado']=='SP').sum()"
      ],
      "execution_count": null,
      "outputs": [
        {
          "output_type": "execute_result",
          "data": {
            "text/plain": [
              "36"
            ]
          },
          "metadata": {
            "tags": []
          },
          "execution_count": 53
        }
      ]
    },
    {
      "cell_type": "code",
      "metadata": {
        "id": "77xYVOTprPCG",
        "colab": {
          "base_uri": "https://localhost:8080/",
          "height": 195
        },
        "outputId": "35026fb0-ca82-4a95-cb72-5df3cc5b2638"
      },
      "source": [
        "Is_SP = df['Estado']=='SP'\n",
        "df_SP = df[Is_SP]\n",
        "df_SP.head()"
      ],
      "execution_count": null,
      "outputs": [
        {
          "output_type": "execute_result",
          "data": {
            "text/html": [
              "<div>\n",
              "<style scoped>\n",
              "    .dataframe tbody tr th:only-of-type {\n",
              "        vertical-align: middle;\n",
              "    }\n",
              "\n",
              "    .dataframe tbody tr th {\n",
              "        vertical-align: top;\n",
              "    }\n",
              "\n",
              "    .dataframe thead th {\n",
              "        text-align: right;\n",
              "    }\n",
              "</style>\n",
              "<table border=\"1\" class=\"dataframe\">\n",
              "  <thead>\n",
              "    <tr style=\"text-align: right;\">\n",
              "      <th></th>\n",
              "      <th>Municípios</th>\n",
              "      <th>Estado</th>\n",
              "      <th>Posição</th>\n",
              "      <th>PIB (1 000 R$)</th>\n",
              "      <th>Participação (%)</th>\n",
              "      <th>Participação acumulada (%)</th>\n",
              "    </tr>\n",
              "  </thead>\n",
              "  <tbody>\n",
              "    <tr>\n",
              "      <th>0</th>\n",
              "      <td>São Paulo</td>\n",
              "      <td>SP</td>\n",
              "      <td>1º</td>\n",
              "      <td>6.992884e+08</td>\n",
              "      <td>10.622125</td>\n",
              "      <td>10.622125</td>\n",
              "    </tr>\n",
              "    <tr>\n",
              "      <th>5</th>\n",
              "      <td>Osasco</td>\n",
              "      <td>SP</td>\n",
              "      <td>6º</td>\n",
              "      <td>7.791050e+07</td>\n",
              "      <td>1.183453</td>\n",
              "      <td>23.288095</td>\n",
              "    </tr>\n",
              "    <tr>\n",
              "      <th>10</th>\n",
              "      <td>Campinas</td>\n",
              "      <td>SP</td>\n",
              "      <td>11º</td>\n",
              "      <td>5.905356e+07</td>\n",
              "      <td>0.897018</td>\n",
              "      <td>28.307059</td>\n",
              "    </tr>\n",
              "    <tr>\n",
              "      <th>11</th>\n",
              "      <td>Guarulhos</td>\n",
              "      <td>SP</td>\n",
              "      <td>12º</td>\n",
              "      <td>5.574365e+07</td>\n",
              "      <td>0.846741</td>\n",
              "      <td>29.153800</td>\n",
              "    </tr>\n",
              "    <tr>\n",
              "      <th>14</th>\n",
              "      <td>Barueri</td>\n",
              "      <td>SP</td>\n",
              "      <td>15º</td>\n",
              "      <td>4.755359e+07</td>\n",
              "      <td>0.722335</td>\n",
              "      <td>31.408534</td>\n",
              "    </tr>\n",
              "  </tbody>\n",
              "</table>\n",
              "</div>"
            ],
            "text/plain": [
              "    Municípios Estado  ... Participação (%)  Participação acumulada (%)\n",
              "0   São Paulo      SP  ...        10.622125                   10.622125\n",
              "5      Osasco      SP  ...         1.183453                   23.288095\n",
              "10   Campinas      SP  ...         0.897018                   28.307059\n",
              "11  Guarulhos      SP  ...         0.846741                   29.153800\n",
              "14    Barueri      SP  ...         0.722335                   31.408534\n",
              "\n",
              "[5 rows x 6 columns]"
            ]
          },
          "metadata": {
            "tags": []
          },
          "execution_count": 62
        }
      ]
    },
    {
      "cell_type": "code",
      "metadata": {
        "colab": {
          "base_uri": "https://localhost:8080/"
        },
        "id": "_1AhVQMjv-2s",
        "outputId": "8ed62aff-e004-4f73-b332-cb9885b9cd99"
      },
      "source": [
        "pib_acumulado_SP = df_SP['Participação (%)'].sum()\n",
        "pib_acumulado_SP"
      ],
      "execution_count": null,
      "outputs": [
        {
          "output_type": "execute_result",
          "data": {
            "text/plain": [
              "23.195820665883673"
            ]
          },
          "metadata": {
            "tags": []
          },
          "execution_count": 64
        }
      ]
    },
    {
      "cell_type": "code",
      "metadata": {
        "colab": {
          "base_uri": "https://localhost:8080/",
          "height": 106
        },
        "id": "HB8XpzjDxw1R",
        "outputId": "939fb564-4a82-4646-9ffa-9a53f7968843"
      },
      "source": [
        "Is_PA = df['Estado']=='PA'\n",
        "df_PA = df[Is_PA]\n",
        "df_PA"
      ],
      "execution_count": null,
      "outputs": [
        {
          "output_type": "execute_result",
          "data": {
            "text/html": [
              "<div>\n",
              "<style scoped>\n",
              "    .dataframe tbody tr th:only-of-type {\n",
              "        vertical-align: middle;\n",
              "    }\n",
              "\n",
              "    .dataframe tbody tr th {\n",
              "        vertical-align: top;\n",
              "    }\n",
              "\n",
              "    .dataframe thead th {\n",
              "        text-align: right;\n",
              "    }\n",
              "</style>\n",
              "<table border=\"1\" class=\"dataframe\">\n",
              "  <thead>\n",
              "    <tr style=\"text-align: right;\">\n",
              "      <th></th>\n",
              "      <th>Municípios</th>\n",
              "      <th>Estado</th>\n",
              "      <th>Posição</th>\n",
              "      <th>PIB (1 000 R$)</th>\n",
              "      <th>Participação (%)</th>\n",
              "      <th>Participação acumulada (%)</th>\n",
              "    </tr>\n",
              "  </thead>\n",
              "  <tbody>\n",
              "    <tr>\n",
              "      <th>23</th>\n",
              "      <td>Belém</td>\n",
              "      <td>PA</td>\n",
              "      <td>24º</td>\n",
              "      <td>3.023848e+07</td>\n",
              "      <td>0.459320</td>\n",
              "      <td>36.475667</td>\n",
              "    </tr>\n",
              "    <tr>\n",
              "      <th>48</th>\n",
              "      <td>Parauapebas</td>\n",
              "      <td>PA</td>\n",
              "      <td>49º</td>\n",
              "      <td>1.843190e+07</td>\n",
              "      <td>0.279979</td>\n",
              "      <td>45.108845</td>\n",
              "    </tr>\n",
              "  </tbody>\n",
              "</table>\n",
              "</div>"
            ],
            "text/plain": [
              "      Municípios Estado  ... Participação (%)  Participação acumulada (%)\n",
              "23        Belém      PA  ...         0.459320                   36.475667\n",
              "48  Parauapebas      PA  ...         0.279979                   45.108845\n",
              "\n",
              "[2 rows x 6 columns]"
            ]
          },
          "metadata": {
            "tags": []
          },
          "execution_count": 68
        }
      ]
    },
    {
      "cell_type": "code",
      "metadata": {
        "colab": {
          "base_uri": "https://localhost:8080/"
        },
        "id": "QHdV6RL1x0Bg",
        "outputId": "5bd4dfb1-28e7-468d-d361-87b5a2dd6605"
      },
      "source": [
        "pib_acumulado_PA = df_PA['Participação (%)'].sum()\n",
        "pib_acumulado_PA"
      ],
      "execution_count": null,
      "outputs": [
        {
          "output_type": "execute_result",
          "data": {
            "text/plain": [
              "0.739298647963426"
            ]
          },
          "metadata": {
            "tags": []
          },
          "execution_count": 69
        }
      ]
    },
    {
      "cell_type": "code",
      "metadata": {
        "colab": {
          "base_uri": "https://localhost:8080/"
        },
        "id": "tr5Q1FdZw6k2",
        "outputId": "54d26ddb-f031-4b23-f9ca-b028c356da31"
      },
      "source": [
        "contadordeestados = df['Estado'].value_counts()\n",
        "contadordeestados"
      ],
      "execution_count": null,
      "outputs": [
        {
          "output_type": "execute_result",
          "data": {
            "text/plain": [
              "SP    36\n",
              "RJ    11\n",
              "PR     8\n",
              "MG     6\n",
              "SC     5\n",
              "PE     4\n",
              "BA     4\n",
              "RS     4\n",
              "GO     3\n",
              "ES     3\n",
              "PA     2\n",
              "MS     2\n",
              "AL     1\n",
              "PI     1\n",
              "DF     1\n",
              "PB     1\n",
              "SE     1\n",
              "CE     1\n",
              "RN     1\n",
              "MT     1\n",
              "MA     1\n",
              "RO     1\n",
              "AP     1\n",
              "AM     1\n",
              "Name: Estado, dtype: int64"
            ]
          },
          "metadata": {
            "tags": []
          },
          "execution_count": 66
        }
      ]
    },
    {
      "cell_type": "code",
      "metadata": {
        "colab": {
          "base_uri": "https://localhost:8080/"
        },
        "id": "0O3jSYLyMMQn",
        "outputId": "0be5c6c9-1d96-4bc4-a78a-1be4c53f2b5d"
      },
      "source": [
        "df['PIB (1 000 R$)'].describe()"
      ],
      "execution_count": null,
      "outputs": [
        {
          "output_type": "execute_result",
          "data": {
            "text/plain": [
              "count    1.000000e+02\n",
              "mean     3.642387e+07\n",
              "std      7.905388e+07\n",
              "min      9.964401e+06\n",
              "25%      1.306238e+07\n",
              "50%      1.709912e+07\n",
              "75%      2.917295e+07\n",
              "max      6.992884e+08\n",
              "Name: PIB (1 000 R$), dtype: float64"
            ]
          },
          "metadata": {
            "tags": []
          },
          "execution_count": 41
        }
      ]
    },
    {
      "cell_type": "markdown",
      "metadata": {
        "id": "HR4PgdSDyT7f"
      },
      "source": [
        "***Minha Solução Usando dicionários e listas:***"
      ]
    },
    {
      "cell_type": "code",
      "metadata": {
        "colab": {
          "base_uri": "https://localhost:8080/"
        },
        "id": "pnp8cvK-RzVq",
        "outputId": "47b4c97a-8fad-47e2-fdbe-16c8013e1755"
      },
      "source": [
        "file_path='/content/PIB_100_maiores_cidades_2017.txt'\n",
        "with open(file_path, encoding = 'latin-1') as f:\n",
        "  f_data = f.readlines()\n",
        "  f.closed\n",
        "listadecolunas = []\n",
        "listademunicipios = []\n",
        "listadeestados = []\n",
        "listadeposicao = []\n",
        "listadepib= []\n",
        "listadeparticipacao = []\n",
        "listadeacumulada = []\n",
        "for i in range(101) :\n",
        "  lista_colunas = f_data[i].split(',')\n",
        "  listadecolunas.append(lista_colunas)\n",
        "for k in range(1,101) :\n",
        "  listademunicipios.append(listadecolunas[k][0])\n",
        "  listadeestados.append(listadecolunas[k][1])\n",
        "  listadeposicao.append(listadecolunas[k][2])\n",
        "  listadepib.append(listadecolunas[k][3])\n",
        "  listadeparticipacao.append(listadecolunas[k][4])\n",
        "  listadeacumulada.append(listadecolunas[k][5])\n",
        "dic1 = {}\n",
        "for keys in listadecolunas[0] :\n",
        "  dic1[keys] = []\n",
        "dic1['Estado'].append(listadeestados)\n",
        "dic1['Municípios'].append(listademunicipios)\n",
        "dic1['Participação (%)'].append(listadeparticipacao)\n",
        "dic1['PIB (1 000 R$)'].append(listadepib)\n",
        "dic1['Participação acumulada (%)\\n'].append(listadeacumulada)\n",
        "dic1['Posição'].append(listadeposicao)\n",
        "acumulado=0\n",
        "a = dic1['Estado'][0].count('SP')\n",
        "for i in range(100) :\n",
        "  if dic1['Estado'][0][i] == 'SP' :\n",
        "    acumulado += float(dic1['Participação (%)'][0][i])\n",
        "print(a)\n",
        "print(acumulado)"
      ],
      "execution_count": null,
      "outputs": [
        {
          "output_type": "stream",
          "text": [
            "36\n",
            "23.195820665883666\n"
          ],
          "name": "stdout"
        }
      ]
    },
    {
      "cell_type": "markdown",
      "metadata": {
        "id": "pdsG3zf6ydAl"
      },
      "source": [
        "***Solução professor usando dicionários e listas:***"
      ]
    },
    {
      "cell_type": "code",
      "metadata": {
        "id": "j2CS8XNKb2SV",
        "colab": {
          "base_uri": "https://localhost:8080/"
        },
        "outputId": "ec3ee17f-807a-4aa8-bb0a-c0d9dd1160d4"
      },
      "source": [
        "linhas = []\n",
        "for i in range(len(f_data)):\n",
        "  linhas.append(f_data[i].split(','))\n",
        "colunas_dict={}\n",
        "for key in linhas[0]:\n",
        "  colunas_dict[key]=[]\n",
        "\n",
        "  coluna_n = linhas[0].index(key)\n",
        "  for i in range(1,len(linhas)):\n",
        "    colunas_dict[key].append(linhas[i][coluna_n])\n",
        "lista_estados = colunas_dict['Estado']\n",
        "numero_municipios_SP = lista_estados.count('SP')\n",
        "numero_municipios_SP\n",
        "pib_acm_SP=0\n",
        "for i in range(len(colunas_dict['Estado'])):\n",
        "  if colunas_dict['Estado'][i] == 'SP' :\n",
        "    pib_acm_SP += float(colunas_dict['Participação (%)'][i])\n",
        "print(pib_acm_SP)\n",
        "print(numero_municipios_SP)\n"
      ],
      "execution_count": null,
      "outputs": [
        {
          "output_type": "stream",
          "text": [
            "23.195820665883666\n",
            "36\n"
          ],
          "name": "stdout"
        }
      ]
    },
    {
      "cell_type": "code",
      "metadata": {
        "id": "x6Zw8Cqzlo5N"
      },
      "source": [
        ""
      ],
      "execution_count": null,
      "outputs": []
    },
    {
      "cell_type": "code",
      "metadata": {
        "id": "Rzp8-jNFnbK5"
      },
      "source": [
        ""
      ],
      "execution_count": null,
      "outputs": []
    }
  ]
}