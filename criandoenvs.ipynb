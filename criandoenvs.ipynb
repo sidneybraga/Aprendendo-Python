{
 "cells": [
  {
   "cell_type": "markdown",
   "metadata": {},
   "source": [
    "# Resumo do dia 01/07/2020"
   ]
  },
  {
   "cell_type": "markdown",
   "metadata": {},
   "source": [
    "Hi folks, today i´ve started my seilying through the python world, and here comes what i learned:"
   ]
  },
  {
   "cell_type": "markdown",
   "metadata": {},
   "source": [
    "**How to create a new environment:**\n",
    "A new environment is kind of a new folder that you created with whatever version of python you want.\n",
    "So i gonna show you how to do it."
   ]
  },
  {
   "cell_type": "markdown",
   "metadata": {},
   "source": [
    "First off all you open you anaconda prompt and them you write:"
   ]
  },
  {
   "cell_type": "markdown",
   "metadata": {},
   "source": [
    "conda create -n $nameenvironment$ python=$versionyouwant$"
   ]
  },
  {
   "cell_type": "markdown",
   "metadata": {},
   "source": [
    "Then you must activate your environment with: conda activate $nameenvironment$"
   ]
  },
  {
   "cell_type": "markdown",
   "metadata": {},
   "source": [
    "So now, if you want a kernel on your lab, you gotta install ipykernel on your new environment, and you have to do:"
   ]
  },
  {
   "cell_type": "markdown",
   "metadata": {},
   "source": [
    "pip install ipykernel"
   ]
  },
  {
   "cell_type": "markdown",
   "metadata": {},
   "source": [
    "now you have to name your new kernel as following: python -m ipykernel install --use --name $nameenvironment$ --display-name \"$nameenvironment$\""
   ]
  },
  {
   "cell_type": "markdown",
   "metadata": {},
   "source": [
    "At this point you already have your new environment and you are able to do whatever you want."
   ]
  },
  {
   "cell_type": "markdown",
   "metadata": {},
   "source": [
    "If you want to delete the environment all you have to do is type the following comand: conda env remove -n $nameenvironment$."
   ]
  },
  {
   "cell_type": "markdown",
   "metadata": {},
   "source": [
    "For list all environment you have you must type: conda env list."
   ]
  },
  {
   "cell_type": "markdown",
   "metadata": {},
   "source": [
    "And for delete the kernel that you've created, you gotta type: jupyter kernelspec list.\n",
    "This comand gonna show you all kernels you have.\n",
    "Then you choose one and type the name with: jupyter kernelspec uninstall $nameenviroment$."
   ]
  },
  {
   "cell_type": "markdown",
   "metadata": {},
   "source": [
    "That´s all folks!!"
   ]
  },
  {
   "cell_type": "markdown",
   "metadata": {},
   "source": [
    "And here are the links that i've use to do that:"
   ]
  },
  {
   "cell_type": "markdown",
   "metadata": {},
   "source": [
    "1. [Python Virtual Environment Manager](https://www.youtube.com/watch?v=mIB7IZFCE_k)\n",
    "2. [Anaconda Virtual Environments and Kernels for Jupyter Notebook](https://www.youtube.com/watch?v=6kXLUvsnhuI)\n",
    "3. [Remove Kernel on Jupyter Notebook](https://stackoverflow.com/questions/42635310/remove-kernel-on-jupyter-notebook)\n",
    "4. [Guia básico de Markdown](https://docs.pipz.com/central-de-ajuda/learning-center/guia-basico-de-markdown#open)"
   ]
  },
  {
   "cell_type": "code",
   "execution_count": null,
   "metadata": {},
   "outputs": [],
   "source": []
  }
 ],
 "metadata": {
  "kernelspec": {
   "display_name": "Python 3",
   "language": "python",
   "name": "python3"
  },
  "language_info": {
   "codemirror_mode": {
    "name": "ipython",
    "version": 3
   },
   "file_extension": ".py",
   "mimetype": "text/x-python",
   "name": "python",
   "nbconvert_exporter": "python",
   "pygments_lexer": "ipython3",
   "version": "3.7.6"
  }
 },
 "nbformat": 4,
 "nbformat_minor": 4
}
